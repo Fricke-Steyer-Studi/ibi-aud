{
 "cells": [
  {
   "cell_type": "markdown",
   "metadata": {},
   "source": [
    "# Spezielle Arbeitsleistung\n",
    "\n",
    "Sie bestehen den Modulkurs, wenn Sie eine *spezielle Arbeitsleistung* gemäß Anlage 1, Gruppe 1, erbringen. \n",
    "Ihr Ziel ist die Erstellung einer Zusammenfassung in Form eines Jupyter Notebooks, welches demonstriert, dass Sie die Lernziele des Modulkurses erreicht haben. Nutzen Sie das Notebook, um Ihre Ergebnisse und Erkenntnisse aus diesem Modulkurs zu dokumentieren. Dies bedeutet insbesondere, dass sie Ergebnisse einiger Aufgaben dokumentieren, die Sie während des Semesters bearbeitet haben (z.B. als Python-Code, Screenshot, Ausschnitte aus Forums-Diskussionen, etc.). Sie sollten das Notebook sinnvoll strukturieren und Sie können es durch jegliche weitere thematisch passende Materialien ergänzen (z.B. Mindmaps zu gelesenen Texten, persönliche Reflektionen zu den Aufgaben, etc.). Dieses Notebook kann Ihnen als Vorlage dienen.\n",
    "\n",
    "Voraussetzungen zum Bestehen der speziellen Arbeitsleistung:\n",
    "1. Sie haben dokumentiert, dass Sie **mindestens eine Aufgabe pro Lerneinheit bearbeitet** haben. (Dies entfällt für die Lerneinheit [Vorbereitung](0_Vorbereitung.ipynb), insgesamt also acht Aufgaben.)\n",
    "2. **Mindestens fünf der Aufgaben sollten korrekt** bzw. umfänglich gelöst sein. In diesem Notebook finden Sie eine Musterlösung die diesen Punkt erfüllt.\n",
    "\n",
    "Falls Ihr Notebook weitere Dateien umfasst (z.B. lokale Bilddateien/Screenshots, etc.), fassen Sie diese in einem ZIP-Archiv zusammen und laden Sie dieses in Moodle oder einem Austausch-Dienst Ihrer Wahl hoch (z.B. der HU-Box). Beschreiben Sie dann in Moodle kurz, wie auf das ZIP-Archiv zugegriffen werden kann (z.B. durch Link zum Teilen)."
   ]
  },
  {
   "cell_type": "markdown",
   "metadata": {},
   "source": [
    "## 1 Bits und Boolesche Algebra"
   ]
  },
  {
   "cell_type": "markdown",
   "metadata": {},
   "source": [
    "## 2 Elementare Datentypen"
   ]
  },
  {
   "cell_type": "markdown",
   "metadata": {},
   "source": [
    "## 3 Repräsentation von Text, Bild, Ton"
   ]
  },
  {
   "cell_type": "markdown",
   "metadata": {},
   "source": [
    "## 4 Abstrakte Datenstrukturen"
   ]
  },
  {
   "cell_type": "markdown",
   "metadata": {},
   "source": [
    "## 5 Dateiformate"
   ]
  },
  {
   "cell_type": "markdown",
   "metadata": {},
   "source": [
    "## 6 Algorithmen"
   ]
  },
  {
   "cell_type": "markdown",
   "metadata": {},
   "source": [
    "## 7 Komplexität"
   ]
  },
  {
   "cell_type": "markdown",
   "metadata": {},
   "source": [
    "## 8 Operationen auf Datenstrukturen"
   ]
  },
  {
   "cell_type": "markdown",
   "metadata": {},
   "source": [
    "### Musterlösung für die Aufgabe [Empirischer Vergleich der Zeitkomplexität verschiedener Sortierverfahren](8_Operationen_auf_Datenstrukturen.ipynb#Empirischer-Vergleich-der-Zeitkomplexität-verschiedener-Sortierverfahren)\n",
    "\n",
    "Sie dürfen diese Musterlösung gerne anschauen, sollten für Ihre eigene Lösung aber den Code selbst zusammenstellen und ergänzen, für neue Variablen eigene Namen vergeben und den Code in eigenen Worten kommentieren."
   ]
  },
  {
   "cell_type": "code",
   "execution_count": null,
   "metadata": {},
   "outputs": [],
   "source": [
    "# Fügen Sie hier den Code für Insertion Sort und die Messung/Visualisierung ein.\n",
    "\n",
    "# Algorithmus \"Insertion Sort\" (Suche durch Einfügen)\n",
    "# Parameter: A - Liste mit Werten, die sortiert werden\n",
    "# Ergebnis: A ist sortiert\n",
    "# Rückgabewert: Anzahl der durchgeführten Vergleiche\n",
    "def insertion_sort(A):\n",
    "    v = 0                   # zählt Vergleiche\n",
    "    i = 1                   # aktuelle Position in A\n",
    "    while i < len(A):       # A bis zum Ende durchlaufen\n",
    "        # A(i) an der richtigen Stelle einfügen\n",
    "        j = i\n",
    "        temp = A[j]\n",
    "        while j > 0 and A[j-1] > temp:\n",
    "            v = v + 1       # Vergleich zählen\n",
    "            #  A[j-1] nach rechts verschieben\n",
    "            A[j] = A[j-1]\n",
    "            j = j - 1\n",
    "        A[j] = temp\n",
    "        i = i + 1           # nächstes Element von A\n",
    "\n",
    "    return v                # Anzahl Vergleiche zurückgeben\n",
    "\n",
    "# Zeitmessung\n",
    "%matplotlib inline\n",
    "from random import randint                      # Zufallszahlen\n",
    "from time import process_time                   # Zeitmessung\n",
    "import matplotlib.pyplot as plt                 # Plotten\n",
    "import numpy as np                              # mehrdimensionale Felder\n",
    "plt.rcParams['figure.figsize'] = [10, 10]       # Plotgröße\n",
    "\n",
    "groessen = [100, 1000, 2500, 5000, 7500, 10000] # Listenlängen die wir durchprobieren\n",
    "messdaten = []                                  # hier landen unsere Ergebnisse\n",
    "\n",
    "for g in groessen:                              # alle Listenlängen durchlaufen\n",
    "    A = [randint(0, g) for e in range(g)]       # Liste mit Zufallszahlen erzeugen\n",
    "    # Messung für Insertion Sort\n",
    "    zeit = process_time()                       # Zeit messen\n",
    "    vrgl = insertion_sort(A.copy())             # Kopie (!) der Liste A sortieren\n",
    "    zeit_is = process_time() - zeit             # verstrichene Zeit in Sekunden messen\n",
    "    # Messung für Python Sort\n",
    "    zeit = process_time()                       # Zeit messen\n",
    "    vrgl = sorted(A.copy())                     # Kopie (!) der Liste A sortieren\n",
    "    zeit_ps = process_time() - zeit             # verstrichene Zeit in Sekunden messen\n",
    "\n",
    "    messdaten.append([g, vrgl, zeit_is, zeit_ps]) # Ergebnisse in Liste speichern\n",
    "\n",
    "md = np.array(messdaten)                        # Liste in Feld umwandeln\n",
    "plt.plot(md[:,0], md[:,2], label='Insertion S') # Zeit plotten\n",
    "plt.plot(md[:,0], md[:,3], label='Python S')    # Zeit plotten\n",
    "plt.plot(md[:,0], md[:,0]**2, label='n²')       # g(n) = n² zum Vergleich\n",
    "plt.plot(md[:,0], md[:,0], label='n')           # g(n) = n  zum Vergleich\n",
    "plt.legend(loc='upper left')                    # Legende\n",
    "plt.grid()                                      # Gitterlinien\n",
    "plt.yscale(\"log\")                               # logarithmische y-Achse\n",
    "plt.show()"
   ]
  }
 ],
 "metadata": {
  "language_info": {
   "name": "python",
   "pygments_lexer": "ipython3"
  }
 },
 "nbformat": 4,
 "nbformat_minor": 2
}
