{
 "cells": [
  {
   "cell_type": "markdown",
   "metadata": {},
   "source": [
    "# Spezielle Arbeitsleistung\n",
    "\n",
    "Sie bestehen den Modulkurs, wenn Sie eine *spezielle Arbeitsleistung* gemäß Anlage 1, Gruppe 1, erbringen. \n",
    "Ihr Ziel ist die Erstellung einer Zusammenfassung in Form eines Jupyter Notebooks, welches demonstriert, dass Sie die Lernziele des Modulkurses erreicht haben. Nutzen Sie das Notebook, um Ihre Ergebnisse und Erkenntnisse aus diesem Modulkurs zu dokumentieren. Dies bedeutet insbesondere, dass sie Ergebnisse einiger Aufgaben dokumentieren, die Sie während des Semesters bearbeitet haben (z.B. als Python-Code, Screenshot, Ausschnitte aus Forums-Diskussionen, etc.). Sie sollten das Notebook sinnvoll strukturieren und Sie können es durch jegliche weitere thematisch passende Materialien ergänzen (z.B. Mindmaps zu gelesenen Texten, persönliche Reflektionen zu den Aufgaben, etc.). Dieses Notebook kann Ihnen als Vorlage dienen.\n",
    "\n",
    "Voraussetzungen zum Bestehen der speziellen Arbeitsleistung:\n",
    "1. Sie haben dokumentiert, dass Sie mindestens eine Aufgabe pro Lerneinheit bearbeitet haben. (Dies entfällt für die Lerneinheit [Vorbereitung](0_Vorbereitung.ipynb), insgesamt also acht Aufgaben.)\n",
    "2. Mindestens fünf der Aufgaben sollten korrekt bzw. umfänglich gelöst sein. In diesem Notebook finden Sie eine Musterlösung die diesen Punkt erfüllt.\n",
    "\n",
    "Falls Ihr Notebook weitere Dateien umfasst (z.B. lokale Bilddateien/Screenshots, etc.), fassen Sie diese in einem ZIP-Archiv zusammen und laden Sie dieses in Moodle oder einem Austausch-Dienst Ihrer Wahl hoch (z.B. der HU-Box). Beschreiben Sie dann in Moodle kurz, wie auf das ZIP-Archiv zugegriffen werden kann (z.B. durch Link zum Teilen)."
   ]
  },
  {
   "cell_type": "markdown",
   "metadata": {},
   "source": [
    "## Bits und Boolesche Algebra\n",
    "## Elementare Datentypen\n",
    "## Repräsentation von Text, Bild, Ton\n",
    "## Abstrakte Datenstrukturen\n",
    "## Dateiformate\n",
    "## Algorithmen\n",
    "## Komplexität\n",
    "## Operationen auf Datenstrukturen"
   ]
  }
 ],
 "metadata": {
  "language_info": {
   "name": "python",
   "pygments_lexer": "ipython3"
  }
 },
 "nbformat": 4,
 "nbformat_minor": 2
}
