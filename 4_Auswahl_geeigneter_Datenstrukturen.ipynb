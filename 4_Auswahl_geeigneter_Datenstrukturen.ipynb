{
 "cells": [
  {
   "cell_type": "markdown",
   "metadata": {},
   "source": [
    "# Auswahl geeigneter Datenstrukturen"
   ]
  },
  {
   "cell_type": "markdown",
   "metadata": {},
   "source": [
    "## mögliche Kriterien\n",
    "\n",
    "- Komplexität → siehe [7 Komplexität](7_Komplexitaet.ipynb) und [8 Operationen auf Datenstrukturen](8_Operationen_auf_Datenstrukturen.ipynb)\n",
    "- verfügbare grundlegende Operationen\n",
    "- Anforderungen an "
   ]
  },
  {
   "cell_type": "markdown",
   "metadata": {},
   "source": [
    "## Vorgehen\n",
    "\n",
    "- Do you need **random access**?\n",
    "- Do you perform a lot of **insertions**? How about **deletions**?\n",
    "- Do you allow **duplicates**?\n",
    "- Are you **searching** for elements frequently?\n",
    "- Does your data need to be **ordered**?\n",
    "- Would you need to **traverse** the elements?\n",
    "- How **big** is your data?\n",
    "\n",
    "Quelle: http://dtkachenko.blogspot.com/2011/11/data-structures-and-algorithms-when-to.html"
   ]
  },
  {
   "cell_type": "markdown",
   "metadata": {},
   "source": [
    "| Aufgabe            | Feld | Liste | Baum | Graph | assoziatives Feld |\n",
    "|--------------------|------|-------|------|-------|-------------------|\n",
    "| wahlfreier Zugriff |      |       |      |       |                   |\n",
    "| viele Einfügungen  |      |       |      |       |                   |\n",
    "| viele Löschungen   |      |       |      |       |                   |\n",
    "| Duplikate          |      |       |      |       |                   |\n",
    "| häufige Suche      |      |       |      |       |                   |\n",
    "| Sortierung         |      |       |      |       |                   |\n",
    "| Durchlaufen        |      |       |      |       |                   |\n",
    "| Größe              |      |       |      |       |                   |\n"
   ]
  },
  {
   "cell_type": "markdown",
   "metadata": {},
   "source": [
    "| Aufgabe            | Feld  | Liste | Baum | Graph | assoziatives Feld |\n",
    "|--------------------|-------|-------|------|-------|-------------------|\n",
    "| wahlfreier Zugriff | ✅    | ❌    | ❌   | ❌    | ✅                |\n",
    "| viele Einfügungen  | (✅)    | (✅)    | ❌   | ❌    | ✅                |\n",
    "| viele Löschungen   | (✅)    | ❌    | ❌   | ❌    | ✅                |\n",
    "| Duplikate          | ✅    | ✅    | (✅) | (✅)  | (✅)              |\n",
    "| häufige Suche      | ❌    | ❌    | ❌   | ❌    | ✅                |\n",
    "| Sortierung         | ✅/❌ | ✅    | ✅   | ❌    | ❌                |\n",
    "| Durchlaufen        | ✅    | ✅    | ✅   | (✅)  | (✅)              |\n",
    "| Größe              | ✅    | (✅)  | ❌   | ❌    | (✅)              |\n",
    "\n",
    "Fazit: Abhängigkeit von der Art der Implementierung, [Komplexität](8_Operationen_auf_Datenstrukturen.ipynb)  oft entscheidend"
   ]
  },
  {
   "cell_type": "markdown",
   "metadata": {},
   "source": [
    "## Anmerkungen\n",
    "\n",
    "### Feld\n",
    "- Einfügungen/Löschungen nur im Sinne von Schreiben und Überschreiben\n",
    "- Suche: binäre Suche langsam\n",
    "- Sortierung: statisch ja, dynamisch nein\n",
    "\n",
    "### Liste\n",
    "- Einfügungen: nur schnell am Anfang/Ende\n",
    "- Suche: binäre Suche langsam\n",
    "- Größe: je nach Implementierung Overhead durch Pointer (LinkedList; besser: ArrayList)\n",
    "\n",
    "### Baum\n",
    "- Duplikate: z.B. durch Liste als Blatt\n",
    "- Suche: binäre Suche langsam\n",
    "\n",
    "### Graph\n",
    "- Duplikate: z.B. durch Liste als Knoten\n",
    "- Sortierung: Konzept unklar bzw. [nicht möglich](https://de.wikipedia.org/wiki/Topologische_Sortierung#Nicht_sortierbare_Graphen)\n",
    "- Duchlaufen: Vermeiden von Endlosschleifen benötigt Speicher\n",
    "\n",
    "### assoziatives Feld\n",
    "- Duplikate: z.B. durch Liste als Wert\n",
    "- Sortierung: i.A. nicht\n",
    "- Durchlaufen: spezielle Implementierungen z.B. in Kombination mit einer verketteten Liste\n",
    "- Größe: Vergrößerung bei sehr großen Daten langsam"
   ]
  },
  {
   "cell_type": "markdown",
   "metadata": {},
   "source": []
  }
 ],
 "metadata": {
  "language_info": {
   "name": "python",
   "pygments_lexer": "ipython3"
  }
 },
 "nbformat": 4,
 "nbformat_minor": 2
}
