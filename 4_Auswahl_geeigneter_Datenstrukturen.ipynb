{
 "cells": [
  {
   "cell_type": "markdown",
   "metadata": {},
   "source": [
    "# Auswahl geeigneter Datenstrukturen"
   ]
  },
  {
   "cell_type": "markdown",
   "metadata": {},
   "source": [
    "## mögliche Kriterien\n",
    "\n",
    "1. abstrakter Datentyp oder Datenstruktur?\n",
    "2. dynamisch vs. statisch\n",
    "3. Operationen (notwendig/häufig)\n",
    "4. Komplexität\n",
    "5. Kombination"
   ]
  },
  {
   "cell_type": "markdown",
   "metadata": {},
   "source": [
    "1. ADT vs. DS\n",
    "  - abstrakter Datentyp (z.B. Liste oder Baum) ergibt sich oft automatisch aus Art der Daten\n",
    "  - konkrete Datenstruktur (z.B. verkettete Liste) ergibt sich aus weiteren Anforderungen\n",
    "2. dynamisch vs. statisch\n",
    "  - veränderliche Daten vs. veränderliche Struktur\n",
    "  - Datenzuwachs?\n",
    "3. Operationen\n",
    "  - daraus ergibt sich meist schon ob statisch oder dynamisch (z.B. Einfügen/Löschen)\n",
    "  - aber auch Durchlaufen, Suche, Sortierung, Min/Max\n",
    "  - wesentlich: nur notwendig (z.B. Entfernen) oder auch häufig?\n",
    "4. Komplexität\n",
    "  - oft eines der wesentlichen Kriterien\n",
    "  - entscheidend bei großen Daten und vielen Zugriffen\n",
    "  - siehe [7 Komplexität](7_Komplexitaet.ipynb) und [8 Operationen auf Datenstrukturen](8_Operationen_auf_Datenstrukturen.ipynb)\n",
    "5. Kombination\n",
    "  - z.B. Hashtabelle mit verketteter Liste um Durchlaufen zu ermöglichen\n",
    "\n",
    "Im Allgemeinen: umso spezifischer/komplexer Anforderungen, desto weniger Wahlmöglichkeiten (Feld ↚→ Baum)"
   ]
  },
  {
   "cell_type": "markdown",
   "metadata": {},
   "source": [
    "## Vorgehen\n",
    "\n",
    "- Do you need **random access**?\n",
    "- Do you perform a lot of **insertions**? How about **deletions**?\n",
    "- Do you allow **duplicates**?\n",
    "- Are you **searching** for elements frequently?\n",
    "- Does your data need to be **ordered**?\n",
    "- Would you need to **traverse** the elements?\n",
    "- How **big** is your data?\n",
    "\n",
    "Quelle: http://dtkachenko.blogspot.com/2011/11/data-structures-and-algorithms-when-to.html"
   ]
  },
  {
   "cell_type": "markdown",
   "metadata": {},
   "source": [
    "| Anforderung        | statisches Feld | verkettete Liste | Hashtabelle |\n",
    "|--------------------|-----------------|------------------|-------------|\n",
    "| wahlfreier Zugriff |                 |                  |             |\n",
    "| viele Einfügungen  |                 |                  |             |\n",
    "| viele Löschungen   |                 |                  |             |\n",
    "| Duplikate          |                 |                  |             |\n",
    "| häufige Suche      |                 |                  |             |\n",
    "| Sortierung         |                 |                  |             |\n",
    "| Durchlaufen        |                 |                  |             |\n",
    "| Datengröße         |                 |                  |             |"
   ]
  },
  {
   "cell_type": "markdown",
   "metadata": {},
   "source": [
    "| Anforderung        | statisches Feld | verkettete Liste | Hashtabelle |\n",
    "|--------------------|-----------------|------------------|-------------------|\n",
    "| wahlfreier Zugriff | ✅              | ❌               | ✅                |\n",
    "| viele Einfügungen  | ❌              | ❌               | ✅                |\n",
    "| viele Löschungen   | ❌              | ❌               | ✅                |\n",
    "| Duplikate          | ✅              | ✅               | ❌                |\n",
    "| häufige Suche      | ❌              | ❌               | ✅                |\n",
    "| Sortierung         | ❌              | ✅               | ❌                |\n",
    "| Durchlaufen        | ✅              | ✅               | ❌                |\n",
    "| Datengröße         | ✅              | ❌               | ❌                |\n",
    "\n",
    "✅ = (effizient) möglich, ❌ = nicht oder nur mit Einschränkungen möglich (z.B. ineffizient)\n",
    "\n",
    "Fazit: Abhängigkeit von konkreten Anforderungen und [Komplexität](8_Operationen_auf_Datenstrukturen.ipynb)  oft entscheidend"
   ]
  },
  {
   "cell_type": "markdown",
   "metadata": {},
   "source": [
    "## Anmerkungen zu den ❌\n",
    "\n",
    "### statisches Feld\n",
    "- Einfügungen/Löschungen nur im Sinne von Schreiben und Überschreiben\n",
    "- Suche: binäre Suche langsam\n",
    "- Sortierung: für statische Daten\n",
    "\n",
    "### verkettete Liste\n",
    "- wahlfreier Zugriff: nicht effizient\n",
    "- Einfügungen/Löschungen: nur schnell am Anfang/Ende\n",
    "- Suche: binäre Suche langsam\n",
    "- Datengröße: Overhead durch Pointer, dafür dynamisches Feld besser geeignet\n",
    "\n",
    "### Hashtabelle\n",
    "- Duplikate: nur spezielle Implementierungen z.B. durch Liste als Wert\n",
    "- Suche: meint eher \"Lesen\" (Suche nach Wert ist ❌)\n",
    "- Sortierung: nur spezielle Implementierungen z.B. in Kombination mit einer verketteten Liste (dann Effizienz wie bei verketteter Liste!)\n",
    "- Durchlaufen: nur spezielle Implementierungen z.B. in Kombination mit einer verketteten Liste\n",
    "- Datengröße: Vergrößerung bei sehr großen Daten langsam"
   ]
  },
  {
   "cell_type": "markdown",
   "metadata": {},
   "source": [
    "## (Weitere) Quellen\n",
    "\n",
    "- https://medium.com/build-and-learn/choosing-data-structures-a-guide-for-the-confused-18b5042e750b\n",
    "- https://web.archive.org/web/20180403090554/http://home.deib.polimi.it/morzenti/Info3/notes.pdf\n",
    "- http://dtkachenko.blogspot.com/2011/11/data-structures-and-algorithms-when-to.html"
   ]
  }
 ],
 "metadata": {
  "language_info": {
   "name": "python",
   "pygments_lexer": "ipython3"
  }
 },
 "nbformat": 4,
 "nbformat_minor": 2
}
