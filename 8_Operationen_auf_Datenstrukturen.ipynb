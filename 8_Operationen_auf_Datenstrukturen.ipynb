{
 "cells": [
  {
   "cell_type": "markdown",
   "metadata": {},
   "source": [
    "# Operationen auf Datenstrukturen\n",
    "\n",
    "*erwarteter Zeitaufwand: ca. 5 Stunden*\n",
    "\n",
    "<!-- markdown-toc start - Don't edit this section. Run M-x markdown-toc-generate-toc again -->\n",
    "Inhalt:\n",
    "\n",
    "- [Lernziele](#Lernziele)\n",
    "- [Material](#Material)\n",
    "    - [Grundlegende Operationen](#Grundlegende-Operationen)\n",
    "    - [Sortieren](#Sortieren)\n",
    "    - [Suche](#Suche)\n",
    "    - [Umformung semi-strukturierter Daten](#Umformung-semi-strukturierter-Daten)\n",
    "    - [Exkurs: DNB und Wikidata](#Exkurs:-DNB-und-Wikidata)\n",
    "- [Aufgaben](#Aufgaben)\n",
    "    - [Komplexität selbst erfahren](#Komplexität-selbst-erfahren)\n",
    "    - [Empirischer Vergleich der Zeitkomplexität verschiedener Sortierverfahren](#Empirischer-Vergleich-der-Zeitkomplexität-verschiedener-Sortierverfahren)\n",
    "    - [XKCD](#XKCD)\n",
    "\n",
    "<!-- markdown-toc end -->\n",
    "\n",
    "<div class=\"alert alert-info\">\n",
    "\n",
    "## Lernziele\n",
    "\n",
    "- Operationen auf Datenstrukturen kennen (z.B. Einfügen, wahlfreier\n",
    "  Zugriff, Entfernen)\n",
    "- Verfahren zur Lösung bestimmter Probleme (z.B. Sortieren, Suche)\n",
    "  kennen\n",
    "- Komplexität einiger Operationen und Verfahren abschätzen und\n",
    "  vergleichen können\n",
    "- grundlegende Serialisierungsschritte verstehen können\n",
    "    \n",
    "</div>\n"
   ]
  },
  {
   "cell_type": "markdown",
   "metadata": {},
   "source": [
    "## Material\n",
    "*erwarteter Zeitaufwand: ca. 3 Stunden*\n",
    "\n",
    "<div class=\"alert alert-warning\">\n",
    "\n",
    "In dieser Lerneinheit befassen wir uns gezielt mit grundlegenden\n",
    "Operationen, die wir mit Datenstrukturen durchführen können. Dies\n",
    "schließt die besonders im Bibliotheks- und\n",
    "Informationswissenschaftlichen Kontext relevanten Operationen des\n",
    "*Sortierens*, der *Suche* sowie der *Serialisierung* mit ein. \n",
    "Insbesondere befassen wir uns mit der *Komplexität* einiger Operationen. \n",
    "Dies hilft uns dabei, die\n",
    "Eignung von Datenstrukturen und Operationen für bestimmte Aufgaben\n",
    "einschätzen zu können.  Auch wenn einige der Operationen \"trivial\"\n",
    "erscheinen, so sind sie je nach Datenstruktur unterschiedlich\n",
    "aufwendig.  Daher ist es hilfreich, eine Idee davon zu haben, wie\n",
    "aufwendig welche Operation in welcher Datenstruktur ist. Auch wenn wir\n",
    "hier nur eine sehr beschränkte Auswahl von Operationen und\n",
    "Datenstrukturen behandeln, so soll diese Lerneinheit das grundlegende\n",
    "Vorgehen vermitteln, mit dem sich Datenstrukturen und Operationen\n",
    "vergleichen und einschätzen lassen.\n",
    "Für die Serialisierung greift die Lerneinheit Datenstrukturen\n",
    "wie Listen und Datenmodelle wie RDF, JSON und XML aus der Lerneinheit\n",
    "zu [Abstrakten Datenstrukturen](4_Abstrakte_Datenstrukturen.ipynb)\n",
    "wieder auf. Sie enthält außerdem einen Exkurs, der ein konkretes\n",
    "Beispiel für die Datenintegration im bibliothekarischen Kontext\n",
    "vorstellt.    \n",
    "    \n",
    "</div>"
   ]
  },
  {
   "cell_type": "markdown",
   "metadata": {},
   "source": [
    "### Grundlegende Operationen\n",
    "\n",
    "Um die Komplexität *grundlegender Operationen* auf einigen\n",
    "Datenstrukturen zu betrachten, klären wir zunächst die Frage: *Was\n",
    "sind grundlegende Operationen?*\n",
    "\n",
    "\n",
    "Die Abkürzung\n",
    "[CRUD](https://en.wikipedia.org/wiki/Create,_read,_update_and_delete)\n",
    "bezeichnet die vier grundlegenden Operationen in\n",
    "Datenbankmanagementsystemen: *create, read, update, delete*. Im Grunde\n",
    "können wir diese auf abstrakte Datenstrukturen übertragen. Allerdings\n",
    "ist (wie wir später noch sehen werden) das in der Praxis gar nicht so\n",
    "einfach,\n",
    "  - da *nicht alle Operationen* von allen Datenstrukturen unterstützt\n",
    "    werden (z.B. ist es nicht möglich, Elemente eines statischen\n",
    "    Feldes zu entfernen oder hinzuzufügen) und\n",
    "  - da einige Operationen – ja nachdem wie bzw. wo sie ausgeführt\n",
    "    werden – je nach Datenstruktur ggf. *unterschiedlich aufwendig\n",
    "    sind* (z.B. Verändern einer Liste am Anfang vs. in der Mitte).\n",
    "\n",
    "Daher fokussieren wir hier zunächst auf die drei Operationen *Lesen*,\n",
    "*Einfügen* und *Entfernen* und bevor wir diese Entscheidung begründen\n",
    "sowie die Operationen im Detail diskutieren betrachten wir deren\n",
    "Zeitkomplexität für drei verbreitete Implementierungen abstrakter\n",
    "Datenstrukturen:\n",
    "- Feld: statisches Feld\n",
    "- Liste: verkettete Liste\n",
    "- assoziatives Feld: Hashtabelle\n",
    "\n",
    "(Denn die Komplexität hängt von der Art der Implementierung ab!)\n",
    "\n",
    "<!-- da die meisten Datenstrukturen *weitere spezifische Operationen*\n",
    "    unterstützen (z.B. ).  -->\n",
    "\n",
    "| Operation          | statisches Feld  | verkettete Liste | Hashtabelle      |\n",
    "|--------------------|------------------|------------------|------------------|\n",
    "| Lesen              | $\\mathcal{O}(1)$ | $\\mathcal{O}(n)$ | $\\mathcal{O}(1)$ |\n",
    "| Einfügen/Entfernen | nicht möglich    | $\\mathcal{O}(n)$ | $\\mathcal{O}(1)$ |\n",
    "\n",
    "Dieser Überblick ist dem auf der [Wikipediaseite zum\n",
    "Feld](https://en.wikipedia.org/wiki/Array_data_structure#Comparison_with_other_data_structures)\n",
    "entlehnt und gibt die *mittlere Zeitkomplexität* für die jeweilige\n",
    "Operation an. Dabei bezeichnet $n$ die *Anzahl der Elemente der\n",
    "Datenstruktur*. Der Aufwand zum Lesen eines Elements einer verketteten\n",
    "Liste hängt also (linear) von der Größe der Liste ab.  Leider lassen\n",
    "sich die Angaben nicht 1:1 auf Python übertragen, da dort Listen\n",
    "beispielsweise [als dynamische Felder implementiert\n",
    "sind](https://wiki.python.org/moin/TimeComplexity). Im Zweifel ist\n",
    "also ein Blick in die Dokumentation (oder den Quelltext) der\n",
    "verwendeten Programmiersprache bzw. Softwarebibliothek notwendig.\n",
    "\n",
    "\n",
    "Die **wesentliche Erkenntnis** aus dieser Tabelle ist: **auch\n",
    "\"triviale\" Operationen benötigen Zeit** – wir können je nach\n",
    "Datenstruktur nicht davon ausgehen, dass grundlegende Operationen\n",
    "einen konstanten ($\\mathcal{O}(1)$) Zeitaufwand benötigen. Daraus\n",
    "folgt beispielsweise: je größer eine Liste, desto aufwendiger wird es,\n",
    "neue Elemente einzufügen.\n",
    "\n",
    "Eine weitere Erkenntnis ist, dass wir uns die Vorteile einiger\n",
    "Datenstrukturen (z.B. Dynamik bei verketteten Listen) durch eine\n",
    "erhöhte Zeitkomplexität erkaufen. Oft können wir die Zeitkomplexität\n",
    "einer Operation zwar verbessern, dies erkaufen wir uns dann jedoch\n",
    "meist mit erhöhtem Speicherbedarf.  Beispielsweise können wir mit\n",
    "Hilfe einer *doppelt verketteten Liste* die Zeitkomplexität für den\n",
    "Zugriff auf das letzte Listenelement von $\\mathcal{O}(n)$ auf\n",
    "$\\mathcal{O}(1)$ reduzieren, zum Preis eines um ca. 50% erhöhten\n",
    "Speicherbedarfes.\n",
    "\n",
    "Im folgenden wollen wir auf die eingangs erwähnten Herausforderungen\n",
    "und einige Besonderheiten der jeweiligen Operationen\n",
    "bzw. Datenstrukturen eingehen.\n",
    "\n",
    "\n",
    "#### Lesen\n",
    "\n",
    "Mit *Lesen* bezeichnen wir hier den *wahlfreien* Zugriff (\"random\n",
    "read\") auf ein *beliebiges* Element der Datenstruktur – z.B. auf das\n",
    "fünfte Element eines Feldes oder einer Liste"
   ]
  },
  {
   "cell_type": "code",
   "execution_count": null,
   "metadata": {},
   "outputs": [],
   "source": [
    "elemente = [\"Feuer\", \"Wasser\", \"Erde\", \"Luft\", \"Leeloo Minai Lekatariba-Lamina-Tchai Ekbat De Sebat\"]\n",
    "elemente[4]"
   ]
  },
  {
   "cell_type": "markdown",
   "metadata": {},
   "source": [
    "oder auf das Element mit dem Schlüssel \"title\" eines assoziativen Feldes."
   ]
  },
  {
   "cell_type": "code",
   "execution_count": null,
   "metadata": {},
   "outputs": [],
   "source": [
    "entry = {\n",
    "    \"key\"       : \"dudley1983trisector\",\n",
    "    \"title\"     : \"What To Do When The Trisector Comes\",\n",
    "    \"author\"    : \"Dudley, Underwood\",\n",
    "    \"year\"      : 1983,\n",
    "    \"journal\"   : \"The Mathematical Intelligencer\",\n",
    "    \"number\"    : 1,\n",
    "    \"volume\"    : 5,\n",
    "    \"pages\"     : \"20--25\",\n",
    "    \"publisher\" : \"Springer-Verlag\",\n",
    "    \"address\"   : \"New York\"\n",
    "}\n",
    "entry[\"title\"]"
   ]
  },
  {
   "cell_type": "markdown",
   "metadata": {},
   "source": [
    "\n",
    "Auf einzelne Elemente eines *(assoziativen) Feldes* können wir mit\n",
    "*konstantem Zeitaufwand* zugreifen, weil sich aus dem Index des\n",
    "Elementes (bzw. seinem Schlüssel im assoziativen Feld) direkt die\n",
    "Adresse der zugehörigen Speicherzelle berechnen lässt und der Zugriff\n",
    "auf einzelne Speicherzellen im Hauptspeicher in konstanter Zeit\n",
    "möglich ist (z.B. 6 ns).\n",
    "\n",
    "Eine *verkettete Liste* müssen wir elementweise *durchlaufen*, indem\n",
    "wir den Verweisen von einem Element zum nächsten folgen, bis wir das\n",
    "gewünschte Element erreichen:\n",
    "\n",
    "![Verkettete Liste](https://amor.cms.hu-berlin.de/~jaeschkr/teaching/damostin/verkettete_liste.svg)\n",
    "\n",
    "Um im Beispiel das fünfte Element zu erreichen, müssen wir also alle\n",
    "Elemente durchlaufen. Das ist der ungünstigste Fall — im Mittel müssen\n",
    "wir die Hälfte der Elemente durchlaufen. Die Zeitkomplexität ist in\n",
    "beiden Fällen $\\mathcal{O}(n)$.\n"
   ]
  },
  {
   "cell_type": "markdown",
   "metadata": {},
   "source": [
    "\n",
    "Etwas anders verhält es sich beim *sequentiellen Lesen* (\"sequential\n",
    "read\"): hierbei wollen wir nicht auf ein einzelnes Element zugreifen,\n",
    "sondern mehrere Elemente *hintereinander* (d.h., in der Reihenfolge,\n",
    "wie sie die Datenstruktur uns vorgibt) lesen. Bei (assoziativen)\n",
    "Feldern ergibt das keinen Unterschied zum wahlfreien Zugriff aber bei\n",
    "verketteten Listen schon: Die Zeitkomplexität für den Zugriff auf das\n",
    "erste zu lesende Element ist wie gehabt $\\mathcal{O}(n)$ (bzw. $\\mathcal{O}(1)$, falls es das erste Element der Liste ist). Die nachfolgenden\n",
    "Elemente können wir jedoch jeweils durch die Verweise in konstanter\n",
    "Zeit erreichen, d.h. ab dem zweiten Element ist die Zeitkomplexität\n",
    "$\\mathcal{O}(1)$. Wenn wir $m$ Elemente lesen wollen ist die\n",
    "Zeitkomplexität demnach also nur $\\mathcal{O}(n + m)$ und nicht\n",
    "$\\mathcal{O}(n\\cdot m)$.\n"
   ]
  },
  {
   "cell_type": "markdown",
   "metadata": {},
   "source": [
    "\n",
    "#### Einfügen\n",
    "\n",
    "Mit *Einfügen* ist nicht das gleiche wie mit *Schreiben* gemeint: Mit\n",
    "*Schreiben* bezeichnen wir das *Verändern* des Wertes eines\n",
    "*bestehenden Elementes* der Datenstruktur:\n"
   ]
  },
  {
   "cell_type": "code",
   "execution_count": null,
   "metadata": {},
   "outputs": [],
   "source": [
    "elemente[1] = \"Dihydrogenmonoxid\" # Den Wert des Elements mit dem Index 1 auf \"Dihydrogenmonoxid\" setzen\n",
    "elemente"
   ]
  },
  {
   "cell_type": "markdown",
   "metadata": {},
   "source": [
    "\n",
    "Im Code-Beispiel wird der Wert des zweiten Elements der Liste\n",
    "`elemente` verändert. Der Aufwand dafür ist der gleiche wie beim\n",
    "*Lesen* des Elements (plus ein konstanter Aufwand für den\n",
    "Schreibvorgang), denn das zweite Element muss zunächst gefunden werden\n",
    "und dann kann dessen Wert verändert werden. Daher ist für die\n",
    "betrachteten Datenstrukturen die *Zeitkomplexität für das Schreiben\n",
    "identisch zu der für das Lesen*.\n",
    "\n",
    "\n",
    "Mit *Einfügen* bezeichnen wir das *Hinzufügen* eines Elementes zu der\n",
    "Datenstruktur. Es ist damit insbesondere eine Operation *dynamischer*\n",
    "Datenstrukturen und daher bei statischen Feldern nicht möglich:\n"
   ]
  },
  {
   "cell_type": "code",
   "execution_count": null,
   "metadata": {},
   "outputs": [],
   "source": [
    "elemente.insert(3, \"Silicium\") # \"Silicium\" vor dem Element mit dem Index 3 einfügen\n",
    "elemente"
   ]
  },
  {
   "cell_type": "markdown",
   "metadata": {},
   "source": [
    "\n",
    "Im Beispiel-Code wird *vor* dem Element mit dem Index 3 (dem vierten\n",
    "Element) der Wert \"Silicium\" eingefügt.\n",
    "\n",
    "Auch hier muss bei einer verketteten Liste ähnlich wie beim Lesen und\n",
    "Schreiben vorgegangen werden: zunächst muss das Element gefunden\n",
    "werden, vor dem das neue Element eingefügt werden soll\n",
    "(Zeitkomplexität $\\mathcal{O}(n))$, danach kann das Element eingefügt\n",
    "werden ($\\mathcal{O}(1)$). (Dies erfolgt – wie wir im Abschnitt zu\n",
    "[abstrakten Datenstrukturen](4_Abstrakte_Datenstrukturen.ipynb#Listen)\n",
    "bereits gesehen habe – durch Anpassen der Verweise des vorhergehenden\n",
    "und des einzufügenden Elementes.) Die Zeitkomplexität für das Einfügen\n",
    "eines Elementes in eine verkettete Liste ist demnach $\\mathcal{O}(n)$.\n",
    "\n",
    "Anders verhält es sich (bei *einfach verketteten* Listen), wenn das\n",
    "Element *am Anfang* eingefügt werden soll (bzw. bei *doppelt\n",
    "verketteten* Listen auch am Ende): Hier muss jeweils nur der Verweis\n",
    "auf das *erste* (bzw. *letzte*) Element der Liste angepasst werden,\n",
    "was in konstanter Zeit möglich ist.\n"
   ]
  },
  {
   "cell_type": "markdown",
   "metadata": {},
   "source": [
    "\n",
    "#### Entfernen\n",
    "\n",
    "Beim *Entfernen* muss ähnlich vorgegangen werden wie beim Einfügen:\n",
    "zunächst muss das zu entfernende Element \"gefunden\" werden und dann\n",
    "kann es mit konstantem Zeitaufwand entfernt werden. Auch dies ist\n",
    "wieder nur bei dynamischen Datenstrukturen möglich.\n"
   ]
  },
  {
   "cell_type": "code",
   "execution_count": null,
   "metadata": {},
   "outputs": [],
   "source": [
    "elemente.pop(3) # Das Element mit dem Index 3 entfernen.\n",
    "elemente"
   ]
  },
  {
   "cell_type": "markdown",
   "metadata": {},
   "source": [
    "\n",
    "Die Zeitkomplexität für das *Entfernen* eines Elementes ist daher für\n",
    "die von uns betrachteten Datenstrukturen identisch zur Zeitkomplexität\n",
    "für das *Einfügen* eines Elementes."
   ]
  },
  {
   "cell_type": "markdown",
   "metadata": {},
   "source": [
    "\n",
    "### Sortieren\n",
    "Wenden wir uns jetzt einer der grundlegenden Aufgaben beim Umgang mit\n",
    "Daten und Datenstrukturen zu: dem *Sortieren*. Sortierfahren sind so\n",
    "elementar und wichtig, dass sie zu den am besten untersuchten\n",
    "Problemen der Informatik zählen. Es gibt viele Anwendungsfälle, in\n",
    "denen Sortierverfahren – mehr oder weniger offensichtlich – zum\n",
    "Einsatz kommen, beispielsweise:\n",
    "- *Suchergebnisse* im Web oder in Datenbanken werden meist sortiert\n",
    "  präsentiert,\n",
    "- einige *Operationen in Datenbanken* und einige *Algorithmen* laufen\n",
    "  auf sortierten Daten schneller ab (insbesondere beschleunigt\n",
    "  Sortieren auch die Suche, wie wir im nächsten Abschnitt sehen\n",
    "  werden),\n",
    "- *Betriebssysteme* nutzen eine nach Priorität sortierte Warteschlange\n",
    "  mit den auszuführenden Prozessen für das Scheduling,\n",
    "- *Operationen auf Mengen*, wie z.B. das Vereinigen oder Schneiden\n",
    "  zweier Mengen sowie das Finden von Duplikaten ist auf sortierten\n",
    "  Mengen deutlich effizienter,\n",
    "- *Aufzüge* nutzen Sortierverfahren um zu bestimmen, in welcher\n",
    "  Reihenfolge sie die Etagen anfahren sollen (und ein [ähnliches\n",
    "  Verfahren](https://en.wikipedia.org/wiki/Elevator_algorithm) wird\n",
    "  für die Optimierung von Lese- und Schreibzugriffen auf Festplatten\n",
    "  verwendet),\n",
    "- in der *Statistik* tragen Sortierungen zum Verständnis der Daten\n",
    "  bei, beispielsweise bei Verteilungen.\n",
    "\n",
    "Um Daten (in einer Datenstruktur) sortieren zu können, benötigen wir\n",
    "eine *Ordnung* auf diesen Daten. Wir müssen also je zwei Elemente\n",
    "*vergleichen* können – also entscheiden können, welches von beiden\n",
    "größer ist bzw. ob sie gleich groß sind. Beispielsweise können wir bei\n",
    "numerischen Daten die Ordnung der natürlichen oder reellen Zahlen\n",
    "verwenden und bei Zeichenketten die [lexikographische\n",
    "Ordnung](https://en.wikipedia.org/wiki/Lexicographical_order).\n",
    "\n",
    "Sortierungen sind vor allem für *eindimensionale* Datenstrukturen\n",
    "relevant, beispielsweise Listen und eindimensionale Felder. Das\n",
    "Konzept der Ordnung lässt sich aber auch auf komplexere\n",
    "Datenstrukturen wie\n",
    "[Bäume](https://en.wikipedia.org/wiki/Binary_search_tree) oder\n",
    "mehrdimensionale Felder übertragen. Wir beschränken uns hier auf\n",
    "*eindimensionale Felder* und werden die *Komplexität* verschiedener\n",
    "Verfahren kennenlernen und vergleichen.  Weitere Eigenschaften wie\n",
    "beispielsweise\n",
    "[Stabilität](https://en.wikipedia.org/wiki/Sorting_algorithm#Stability)\n",
    "oder Speicherverbrauch betrachten wir nicht.\n",
    "\n",
    "Das Sortierproblem können wir folgendermaßen formalisieren: Gegeben\n",
    "sei ein eindimensionales Feld $A$ mit $n$ Elementen sowie eine Ordnung\n",
    "$\\le$ mit der sich die Elemente von $A$ vergleichen lassen. Wir suchen\n",
    "nach einem Verfahren, welches die Reihenfolge der Elemente von $A$ so\n",
    "ändert, dass sie sortiert sind, d.h., dass für alle Elemente $a_i$ und\n",
    "$a_j$ von $A$ gilt: $a_i \\le a_j \\Leftrightarrow i \\le j$ (also: wenn\n",
    "$a_i$ vor $a_j$ in $A$ liegt, dann muss $a_i$ auch kleiner oder gleich\n",
    "$a_j$ sein – und umgekehrt).\n",
    "\n",
    "Den Algorithmus *Insertion Sort* kennen wir bereits aus der\n",
    "Lerneinheit [Komplexität](Komplexitaet.ipynb) und haben dort gesehen,\n",
    "dass dessen mittlere Zeitkomplexität $\\mathcal{O}(n^2)$ ist. Die\n",
    "spannende Frage ist: Gibt es bessere Sortierverfahren? Die Antwort\n",
    "lautet ganz klar: Ja! Dies zeigt die folgende Tabelle, die ein\n",
    "Ausschnitt einer Tabelle der [Wikipedia-Seite zu\n",
    "Sortieralgorithmen](https://en.wikipedia.org/wiki/Sorting_algorithm)\n",
    "ist:\n",
    "\n",
    "\n",
    "| Algorithmus                                                    | Best Case               | Average Case            | Worst Case              |\n",
    "|----------------------------------------------------------------|-------------------------|-------------------------|-------------------------|\n",
    "| [Quicksort](https://en.wikipedia.org/wiki/Quicksort)           | $\\mathcal{O}(n \\log n)$ | $\\mathcal{O}(n \\log n)$ | $\\mathcal{O}(n^2)$      |\n",
    "| [Merge Sort](https://en.wikipedia.org/wiki/Merge_sort)         | $\\mathcal{O}(n \\log n)$ | $\\mathcal{O}(n \\log n)$ | $\\mathcal{O}(n \\log n)$ |\n",
    "| [Introsort](https://en.wikipedia.org/wiki/Introsort)           | $\\mathcal{O}(n \\log n)$ | $\\mathcal{O}(n \\log n)$ | $\\mathcal{O}(n \\log n)$ |\n",
    "| [Heap Sort](https://en.wikipedia.org/wiki/Heapsort)            | $\\mathcal{O}(n \\log n)$ | $\\mathcal{O}(n \\log n)$ | $\\mathcal{O}(n \\log n)$ |\n",
    "| [Insertion Sort](https://en.wikipedia.org/wiki/Insertion_sort) | $\\mathcal{O}(n)$        | $\\mathcal{O}(n^2)$      | $\\mathcal{O}(n^2)$      |\n",
    "| [Timsort](https://en.wikipedia.org/wiki/Timsort)               | $\\mathcal{O}(n)$        | $\\mathcal{O}(n \\log n)$ | $\\mathcal{O}(n \\log n)$ |\n",
    "| [Selection Sort](https://en.wikipedia.org/wiki/Selection_sort) | $\\mathcal{O}(n^2)$      | $\\mathcal{O}(n^2)$      | $\\mathcal{O}(n^2)$      |\n",
    "| [Bubble Sort](https://en.wikipedia.org/wiki/Bubble_sort)       | $\\mathcal{O}(n)$        | $\\mathcal{O}(n^2)$      | $\\mathcal{O}(n^2)$      |\n",
    "\n",
    "Aus der Tabelle lässt sich erahnen, dass es eine untere Schranke für\n",
    "die bestmögliche Zeitkomplexität gibt. In der Tat lässt sich zeigen,\n",
    "das die bestmögliche mittlere Zeitkomplexität $\\mathcal{O}(n \\log n)$\n",
    "beträgt.  Die drei Verfahren *Merge Sort*, *Introsort* und *Heap Sort*\n",
    "haben diese Komplexität sogar für alle drei betrachteten Fälle. Der\n",
    "beste Fall liegt typischerweise vor, wenn die Daten bereits sortiert\n",
    "sind.  Drei Verfahren (*Insertion Sort*, *Timsort* und *Bubble Sort*)\n",
    "haben dann nur eine Zeitkomplexität von $\\mathcal{O}(n)$, aber nur\n",
    "*Timsort* hat auch eine brauchbare Zeitkomplexität im mittleren und\n",
    "schlechtesten Fall.\n"
   ]
  },
  {
   "cell_type": "markdown",
   "metadata": {},
   "source": [
    "\n",
    "<a title=\"StackSort connects to StackOverflow, searches for 'sort a list', and downloads and runs code snippets until the list is sorted.\" href=\"https://xkcd.com/1185/\">\n",
    "  <img alt=\"XKCD Comic: Ineffective Sorts\" src=\"https://imgs.xkcd.com/comics/ineffective_sorts.png\">\n",
    "</a>\n",
    "\n",
    "© Randall Munroe / [CC-BY-NC 2.5](http://creativecommons.org/licenses/by-nc/2.5/)\n"
   ]
  },
  {
   "cell_type": "markdown",
   "metadata": {},
   "source": [
    "\n",
    "Es gibt noch viele weitere Sortierverfahren, die teilweise für\n",
    "Spezialfälle relevant sind. In der Praxis wird jedoch eine relativ\n",
    "übersichtliche Menge von Verfahren verwendet, wie wir der\n",
    "[Wikipedia-Seite zu\n",
    "Sortierverfahren](https://en.wikipedia.org/wiki/Sorting_algorithm)\n",
    "entnehmen können:\n",
    "\n",
    "> While there are a large number of sorting algorithms, in practical\n",
    "> implementations a few algorithms predominate. [Insertion\n",
    "> sort](https://en.wikipedia.org/wiki/Insertion_sort) is widely used\n",
    "> for small data sets, while for large data sets an asymptotically\n",
    "> efficient sort is used, primarily [heap\n",
    "> sort](https://en.wikipedia.org/wiki/Heapsort), [merge\n",
    "> sort](https://en.wikipedia.org/wiki/Merge_sort), or\n",
    "> [quicksort](https://en.wikipedia.org/wiki/Quicksort). Efficient\n",
    "> implementations generally use a hybrid algorithm, combining an\n",
    "> asymptotically efficient algorithm for the overall sort with\n",
    "> insertion sort for small lists at the bottom of a recursion. Highly\n",
    "> tuned implementations use more sophisticated variants, such as\n",
    "> [Timsort](https://en.wikipedia.org/wiki/Timsort) (merge sort,\n",
    "> insertion sort, and additional logic), used in Android, Java, and\n",
    "> Python, and [introsort](https://en.wikipedia.org/wiki/Introsort)\n",
    "> (quicksort and heap sort), used (in variant forms) in some C++ sort\n",
    "> implementations and in .NET.\n",
    "\n",
    "\n",
    "Das heißt: die Standardbibliotheken von Programmiersprachen\n",
    "implementieren typischerweise ausgefeilte Kombinationen der besten\n",
    "Sortieralgorithmen. Beispielsweise implementiert Python\n",
    "[Timsort](https://en.wikipedia.org/wiki/Timsort) – eine Kombination\n",
    "aus Merge Sort und Insertion Sort.\n"
   ]
  },
  {
   "cell_type": "code",
   "execution_count": null,
   "metadata": {},
   "outputs": [],
   "source": [
    "from IPython.display import YouTubeVideo\n",
    "# Quick-sort with Hungarian (Küküllőmenti legényes) folk dance\n",
    "YouTubeVideo('ywWBy6J5gz8')"
   ]
  },
  {
   "cell_type": "markdown",
   "metadata": {},
   "source": [
    "\n",
    "### Suche\n",
    "\n",
    "Allgemein umfasst der Begriff *Suche* einen sehr großen Bereich, weil\n",
    "wir nach allen möglichen Dingen suchen können: Dokumenten im Web,\n",
    "Routen zwischen zwei Orten, Knoten in einem Graphen, etc. Daher\n",
    "beschränken wir uns hier auf die Suche in den von uns betrachteten\n",
    "Datenstrukturen (z.B. ein Element in einer Liste finden) und gehen\n",
    "(kurz) auf Möglichkeiten ein, die die Suche beschleunigen können.\n",
    "\n",
    "In diesem Sinn ist die Suche eine mit dem Lesen verwandte Operation:\n",
    "Gegeben ist dabei nicht der *Index* (bzw. Schlüssel) eines Elements,\n",
    "sondern ein *Wert* (Inhalt) und wir wollen wissen, *ob ein Element*\n",
    "mit diesem Wert in der Datenstruktur enthalten ist (und ggf. wie der\n",
    "zugehörige Index bzw. Schlüssel lautet).\n",
    "\n",
    "Beispielsweise könnten wir im assoziativen Feld `entry` suchen, ob es\n",
    "einen Schlüssel mit dem Wert `New York` gibt:\n"
   ]
  },
  {
   "cell_type": "code",
   "execution_count": null,
   "metadata": {},
   "outputs": [],
   "source": [
    "for key, value in entry.items(): # alle Schlüssel-Wert-Paare durchlaufen\n",
    "    if value == \"New York\":\n",
    "        print(key)               # Schlüssel des Elements ausgeben ...\n",
    "        break                    # ... und Suche beenden"
   ]
  },
  {
   "cell_type": "markdown",
   "metadata": {},
   "source": [
    "\n",
    "Hierbei führen wir eine *sequentielle Suche* durch, denn wir\n",
    "durchlaufen das Feld, bis wir ein passendes Element finden.\n",
    "\n",
    "<div class=\"alert alert-success\">\n",
    "\n",
    "Suchen Sie in der Liste `elemente` nach dem Element mit dem Wert\n",
    "`Luft`:\n",
    "\n",
    "</div>\n"
   ]
  },
  {
   "cell_type": "code",
   "execution_count": null,
   "metadata": {},
   "outputs": [],
   "source": [
    "# Wie würden Sie vorgehen?"
   ]
  },
  {
   "cell_type": "markdown",
   "metadata": {},
   "source": [
    "\n",
    "Die Zeitkomplexität der sequentiellen Suche ist für alle betrachteten\n",
    "Datenstrukturen $\\mathcal{O}(n)$, denn wir müssen die Elemente einzeln\n",
    "durchlaufen, bis wir ein passendes Element finden. Eine Variante der\n",
    "Suche ist, *alle Vorkommen* eines Wertes zu finden. Dabei muss die\n",
    "Datenstruktur stets vollständig durchlaufen werden. Die\n",
    "Zeitkomplexität ist ebenfalls $\\mathcal{O}(n)$."
   ]
  },
  {
   "cell_type": "markdown",
   "metadata": {},
   "source": [
    "<a title=\"© 2010 by Tomasz Sienicki [user: tsca, mail: tomasz.sienicki at gmail.com] / CC BY (https://creativecommons.org/licenses/by/3.0)\" href=\"https://commons.wikimedia.org/wiki/File:Telefonbog_ubt-1.JPG\"><img width=\"512\" alt=\"Telefonbog ubt-1\" src=\"https://upload.wikimedia.org/wikipedia/commons/d/d3/Telefonbog_ubt-1.JPG\"></a>"
   ]
  },
  {
   "cell_type": "markdown",
   "metadata": {},
   "source": [
    "Beschleunigen lässt sich die Suche durch Sortieren: Aus dem Abschnitt\n",
    "[Komplexität](Komplexitaet.ipynb) kennen wir (aus der [entsprechenden\n",
    "Aufgabe](http://localhost:8888/notebooks/Komplexitaet.ipynb#Bin%C3%A4re-Suche))\n",
    "die [Binäre\n",
    "Suche](https://en.wikipedia.org/wiki/Binary_search_algorithm). Diese\n",
    "funktioniert ähnlich der manuellen Suche in einem Telefonbuch: Wir\n",
    "schlagen es ungefähr in der Mitte auf und prüfen, ob der gesuchte Name\n",
    "sich in der vorderen oder der hinteren Hälfte des Buches befinden\n",
    "muss. Mit dem entsprechenden Teil des Telefonbuches fahren wir auf die\n",
    "gleiche Weise fort."
   ]
  },
  {
   "cell_type": "code",
   "execution_count": null,
   "metadata": {},
   "outputs": [],
   "source": [
    "def binaere_suche(A, zielwert):\n",
    "    if len(A) == 0:\n",
    "        return False                                      # A ist leer - nichts gefunden\n",
    "    else:\n",
    "        pivot = int(len(A)/2)                             # mittleren Eintrag festlegen\n",
    "        if zielwert == A[pivot]:\n",
    "            return True                                   # Eintrag gefunden\n",
    "        if zielwert < A[pivot]:\n",
    "            return binaere_suche(A[:pivot], zielwert)     # vordere Hälfte durchsuchen\n",
    "        if zielwert > A[pivot]:\n",
    "            return binaere_suche(A[pivot + 1:], zielwert) # hintere Hälfte durchsuchen\n",
    "\n",
    "primzahlen = [2, 3, 5, 7, 11, 13, 17, 19, 21, 23, 29]\n",
    "binaere_suche(primzahlen, 13)"
   ]
  },
  {
   "cell_type": "markdown",
   "metadata": {},
   "source": [
    "\n",
    "Die Zeitkomplexität der binären Suche beträgt $\\mathcal{O}(\\log n)$,\n",
    "was deutlich effizienter ist als die sequentielle Suche ($\\mathcal{O}(n)$):"
   ]
  },
  {
   "cell_type": "code",
   "execution_count": null,
   "metadata": {},
   "outputs": [],
   "source": [
    "%matplotlib inline\n",
    "import numpy as np\n",
    "import matplotlib.pyplot as plt                # Plotten\n",
    "from numpy import log2                         # Logarithmus\n",
    "\n",
    "n = np.linspace(1, 100, 100)                   # x-Werte\n",
    "\n",
    "plt.plot(n, n,       label='sequentielle Suche – O(n)')\n",
    "plt.plot(n, log2(n), label='binäre Suche – log₂(n)')\n",
    "plt.legend(loc='top left')                     # Legende\n",
    "plt.show()"
   ]
  },
  {
   "cell_type": "markdown",
   "metadata": {},
   "source": [
    "\n",
    "<div class=\"alert alert-success\">\n",
    "\n",
    "Sie können dieses theoretische Ergebnis durch Zeitmessung\n",
    "verifizieren. Schauen Sie sich dazu das Vorgehen in den Aufgaben am\n",
    "Ende dieser Lerneinheit an und nutzen Sie die oben definierte Funktion\n",
    "`binaere_suche()`.\n",
    "\n",
    "</div>\n",
    "\n",
    "Die binäre Suche ist dabei nur effizient, wenn wir *konstante Zeit*\n",
    "($\\mathcal{O}(1)$) für den wahlfreien Zugriff auf jedes Element\n",
    "benötigen. Die Zeitkomplexität bezieht sich daher in der Regel auf die\n",
    "Suche in einem (statischen) Feld.\n",
    "\n",
    "\n",
    "Wir haben nun gesehen, dass Sortieren die Suche beschleunigt.\n",
    "Andererseits benötigt das Sortieren selbst Zeit. Daher ist stets\n",
    "abzuschätzen, ob sich der Aufwand lohnt. Im Allgemeinen ist dies dann\n",
    "der Fall, wenn regelmäßig suchend auf die Daten zugegriffen werden\n",
    "soll. Für eine einmalige Suche lohnt sich der Aufwand nicht, denn die\n",
    "Zeitkomplexität des Sortierens vo $\\mathcal{O}(n \\log n)$ ist deutlich\n",
    "größer als die der sequentiellen Suche ($\\mathcal{O}(n)$), die auch\n",
    "auf einer unsortierten Datenstruktur funktioniert.\n",
    "\n",
    "<!--\n",
    "\n",
    "- bei Bäumen/Graphen aufwendiger (Breadth/Depth First!)\n",
    "- gibt spezielle Datenstrukturen, um Suche zu beschleunigen\n",
    "\n",
    "-->\n"
   ]
  },
  {
   "cell_type": "markdown",
   "metadata": {},
   "source": [
    "### Umformung semi-strukturierter Daten\n",
    "Wir haben bereits gesehen, dass [abstrakte\n",
    "Datenstrukturen](4_Abstrakte_Datenstrukturen.ipynb) auf dem linear\n",
    "angeordneten *Hauptspeicher* \"simuliert\" werden müssen. (Dies erfolgt\n",
    "mit Hilfe von Zeigern auf Adressen). Wollen wir semi-strukturierte\n",
    "Daten (z.B. abstrakte Datenstrukturen, die auch Text enthalten) auf\n",
    "*Massenspeichern* persistent speichern oder als *Nachricht* übermitteln,\n",
    "so müssen wir sie ebenfalls in eine linear angeordnete Folge von Bytes\n",
    "transformieren – *serialisieren*.  Im Unterschied zum Hauptspeicher\n",
    "erlauben (traditionelle) Massenspeicher (Festplatten) jedoch keinen\n",
    "effizienten Zugriff auf beliebige Speicherzellen (Adressen). Dort\n",
    "werden Daten aus Effizienzgründen meist sequentiell (am Stück)\n",
    "geschrieben und gelesen. Aus diesem Grund scheiden Zeigerstrukturen\n",
    "wie im Hauptspeicher als Option aus und andere Formen der\n",
    "Serialisierung haben sich durchgesetzt.\n",
    "\n",
    "Eine Möglichkeit haben wir bereits bei der [Speicherung von\n",
    "Rastergrafiken](3_Repraesentation_von_Text_Bild_Ton.ipynb#Rastergrafik)\n",
    "kennengelernt: das zweidimensionale Pixelbild wird als Folge von\n",
    "Zeilen und jede Zeile als Folge von Pixeln aufgefasst, so dass sich\n",
    "letztlich eine Folge von Pixeln ergibt. In diesem Abschnitt\n",
    "konzentrieren wir uns auf die textbasierte Serialisierung\n",
    "semi-strukturierter Daten. Zwei übliche Formate dafür sind *JSON* und\n",
    "*XML*, die wir bereits im Abschnitt [Dateiformate](5_Dateiformate.ipynb) kurz kennengelernt haben. Daneben gibt es\n",
    "noch viele weitere Serialisierungsformate, auch für nicht-textuelle\n",
    "Daten, siehe\n",
    "https://en.wikipedia.org/wiki/Comparison_of_data-serialization_formats.\n",
    "\n",
    "#### Beispiel: Serialisierung von Binärbäumen\n",
    "\n",
    "Als Beispiel schauen wir uns zunächst an, wie ein Binärbaum\n",
    "serialisiert werden kann (in einem Binärbaum hat jeder Knoten\n",
    "höchstens zwei Kindknoten)\n",
    "\n",
    "Wir benötigen eine Klasse, um die Knoten des Baumes darzustellen. \n",
    "Ein Knoten hat einen Wert (Name, Bezeichner) und bis zu zwei Kinder\n",
    "(\"links\" und \"rechts\"). Der Wert `None` für ein Kind gibt an, dass \n",
    "dieses nicht existiert, die Verzweigung hier also beendet ist."
   ]
  },
  {
   "cell_type": "code",
   "execution_count": null,
   "metadata": {},
   "outputs": [],
   "source": [
    "class Knoten:\n",
    "    \"\"\"Knoten eines Binärbaums.\"\"\"\n",
    "    def __init__(self, wert, kind_links, kind_rechts):\n",
    "        self.wert = wert\n",
    "        self.kind_links = kind_links\n",
    "        self.kind_rechts = kind_rechts\n",
    "    \n",
    "    def __str__(self):\n",
    "        \"\"\"Ausgabe des Knotens als Zeichenkette durch rekursiven Abstieg zu den Kindern.\"\"\"\n",
    "        return self.wert + \"(\" + str(self.kind_links) + \", \" + str(self.kind_rechts) + \")\"\n",
    "\n",
    "    def _repr_pretty_(self, p, cycle):\n",
    "        \"\"\"Hilfsmethode für Ausgabe in Jupyter Notebook.\"\"\"\n",
    "        p.text(str(self) if not cycle else self.wert)"
   ]
  },
  {
   "cell_type": "markdown",
   "metadata": {},
   "source": [
    "Damit können wir jetzt schon einen kleinen Baum manuell erzeugen:"
   ]
  },
  {
   "cell_type": "code",
   "execution_count": null,
   "metadata": {},
   "outputs": [],
   "source": [
    "baum = Knoten(\"Wurzel\", Knoten(\"Kind 1\", None, None), Knoten(\"Kind 2\", None, None))\n",
    "baum"
   ]
  },
  {
   "cell_type": "markdown",
   "metadata": {},
   "source": [
    "Wir können den Binärbaum durch [Tiefensuche](https://de.wikipedia.org/wiki/Tiefensuche) serialisieren. Dabei folgen wir rekursiv den Kindern (stets erst dem linken und dann dem rechten) und geben den Wert des jeweiligen Knotens aus bzw. ein reserviertes Zeichen (wir haben `|` gewählt) für leere Knoten (`None`). Zusätzlich benötigen wir noch ein Trennzeichen, um die einzelnen Elemente später wieder separieren zu können.\n",
    "<a id='zelle_trenner'></a>"
   ]
  },
  {
   "cell_type": "code",
   "execution_count": null,
   "metadata": {},
   "outputs": [],
   "source": [
    "leerer_knoten = '|'\n",
    "trenner = \", \"\n",
    "\n",
    "def serialisieren(g):\n",
    "    \"\"\"Serialisiert den Binärbaum g in einer Zeichenkette.\"\"\"\n",
    "    if g is None:\n",
    "        return leerer_knoten\n",
    "    \n",
    "    return g.wert + trenner + serialisieren(g.kind_links) + trenner + serialisieren(g.kind_rechts)"
   ]
  },
  {
   "cell_type": "markdown",
   "metadata": {},
   "source": [
    "Jetzt können wir unseren Baum in eine Zeichenkette umwandeln:"
   ]
  },
  {
   "cell_type": "code",
   "execution_count": null,
   "metadata": {},
   "outputs": [],
   "source": [
    "baum_als_zeichenkette = serialisieren(baum)\n",
    "baum_als_zeichenkette"
   ]
  },
  {
   "cell_type": "markdown",
   "metadata": {},
   "source": [
    "Die Knoten werden also in der Reihenfolge von links nach rechts und von oben nach unten aufgelistet. Wir werden das gleich noch deutlicher bei einem etwas komplexeren Beispiel sehen. Zunächst implementieren wir jedoch die Methode zur Deserialisierung. Der Einfachheit halber erhält diese eine Liste von Knoten und arbeitet diese rekursiv (analog zu `serialisieren`) ab: "
   ]
  },
  {
   "cell_type": "code",
   "execution_count": null,
   "metadata": {},
   "outputs": [],
   "source": [
    "def deserialisieren(l):\n",
    "    \"\"\"Deserialisiert die Liste l zu einem Binärbaum.\"\"\"\n",
    "    wert = l.pop(0) if l else None\n",
    "    \n",
    "    if not wert or wert == leerer_knoten:\n",
    "        return None\n",
    "\n",
    "    return Knoten(wert, deserialisieren(l), deserialisieren(l))"
   ]
  },
  {
   "cell_type": "markdown",
   "metadata": {},
   "source": [
    "Um die Methode verwenden zu können, splitten wir die Zeichenkette an den durch `trenner` markierten Stellen auf und erhalten so eine Liste von Zeichenketten, die wir an `deserialisieren` übergeben können:"
   ]
  },
  {
   "cell_type": "code",
   "execution_count": null,
   "metadata": {},
   "outputs": [],
   "source": [
    "def deserialisieren_zeichenkette(s):\n",
    "    return deserialisieren(s.split(trenner) if len(trenner) > 0 else list(s))\n",
    "\n",
    "deserialisieren_zeichenkette(baum_als_zeichenkette)"
   ]
  },
  {
   "cell_type": "markdown",
   "metadata": {},
   "source": [
    "Unser Baum wurde wieder hergestellt! Etwas beeindruckender sieht dies aus, wenn wir eine komplexere Zeichenkette als Eingabe verwenden und den dadurch repräsentierten Baum graphisch darstellen. Die graphische Darstellung übernehmen die beiden folgenden Funktionen:"
   ]
  },
  {
   "cell_type": "code",
   "execution_count": null,
   "metadata": {},
   "outputs": [],
   "source": [
    "%matplotlib inline\n",
    "def add_nodes(g, myg):\n",
    "    if myg.kind_links:\n",
    "        g.add_edge(myg.wert, myg.kind_links.wert)\n",
    "        add_nodes(g, myg.kind_links)\n",
    "    if myg.kind_rechts:\n",
    "        g.add_edge(myg.wert, myg.kind_rechts.wert)\n",
    "        add_nodes(g, myg.kind_rechts)        \n",
    "    \n",
    "def show_graph(myg):\n",
    "    import networkx as nx\n",
    "    from networkx.drawing.nx_agraph import graphviz_layout\n",
    "    import matplotlib.pyplot as plt\n",
    "    g = nx.DiGraph()\n",
    "\n",
    "    add_nodes(g, myg)\n",
    "\n",
    "    pos = graphviz_layout(g, prog='dot')\n",
    "    nx.draw(g, pos, with_labels=True, arrows=False)"
   ]
  },
  {
   "cell_type": "markdown",
   "metadata": {},
   "source": [
    "Schauen wir also einmal, welchen Baum die Zeichenkette \"A, B, C, |, |, D, E, |, |, F , |, |, |\" ergibt:"
   ]
  },
  {
   "cell_type": "code",
   "execution_count": null,
   "metadata": {},
   "outputs": [],
   "source": [
    "show_graph(deserialisieren_zeichenkette(\"A, B, C, |, |, D, E, |, |, F , |, |, |\"))"
   ]
  },
  {
   "cell_type": "markdown",
   "metadata": {},
   "source": [
    "\n",
    "<div class=\"alert alert-success\">\n",
    "    \n",
    "Probieren Sie es selber einmal aus, indem Sie die Zeichenkette \"1, 2, 3, |, |, 4, 6, |, 5, |, |, 7, |\" deserialisieren:\n",
    "    \n",
    "</div>"
   ]
  },
  {
   "cell_type": "code",
   "execution_count": null,
   "metadata": {},
   "outputs": [],
   "source": [
    "# Geben Sie hier den Code zur Deserialisierung und Anzeige des Baumes ein"
   ]
  },
  {
   "cell_type": "markdown",
   "metadata": {},
   "source": [
    "<details>\n",
    "    <summary type=\"button\" class=\"btn btn-info\">Hinweis</summary>\n",
    "  <div class=\"alert alert-success\" role=\"alert\">\n",
    "\n",
    "Kopieren Sie den Code aus der vorherigen Python-Zelle (`show_graph(deserialisieren_zeichenkette(\"A, B, C, |, |, D, E, |, |, F , |, |, |\"))`) und ersetzen Sie die darin enthaltene Zeichenkette `\"A, B, C, |, |, D, E, |, |, F , |, |, |\"` durch die neue Zeichenkette.\n",
    "\n",
    "\n",
    "      \n",
    "  </div>       \n",
    "</details>"
   ]
  },
  {
   "cell_type": "markdown",
   "metadata": {},
   "source": [
    "\n",
    "<div class=\"alert alert-success\">\n",
    "    \n",
    "Wenn die Werte der Knoten nur aus einzelnen Zeichen bestehen, können wir auf Trennzeichen verzichten und die Knoten durch zeichenweise Verarbeitung extrahieren. Probieren Sie es aus, indem Sie den Wert der Variable `trenner` oben auf `\"\"` setzen und die Zeichenkette `\"123||46|5||7|\"` deserialisieren:\n",
    "\n",
    "</div>    \n"
   ]
  },
  {
   "cell_type": "code",
   "execution_count": null,
   "metadata": {},
   "outputs": [],
   "source": [
    "# Geben Sie hier den Code zur Deserialisierung und Anzeige des Baumes ein"
   ]
  },
  {
   "cell_type": "markdown",
   "metadata": {},
   "source": [
    "<details>\n",
    "    <summary type=\"button\" class=\"btn btn-info\">Hinweis</summary>\n",
    "  <div class=\"alert alert-success\" role=\"alert\">\n",
    "\n",
    "Gehen Sie zur [Zelle, in der die Variable `trenner` definiert wird](#zelle_trenner) (`trenner = \", \"`) und ersetzen Sie die Zeichenkette `\", \"` durch `\"\"` (entfernen Sie Komma und Leerzeichen). Führen Sie dann die Zelle aus. \n",
    "      \n",
    "Danach können Sie in der Zelle hier wie im vorherigen Hinweis beschrieben mit Copy&amp;Paste und Anpassung der Zeichenkette fortfahren.\n",
    "      \n",
    "  </div>       \n",
    "</details>"
   ]
  },
  {
   "cell_type": "markdown",
   "metadata": {},
   "source": [
    "\n",
    "<div class=\"alert alert-success\">\n",
    "    \n",
    "Welche Probleme können bei der (De)Serialisierung auftreten, wenn die Zeichen für den leeren Knoten (`$`) bzw. die/das Trennzeichen (`, `) in den Werten für die Knoten verwendet werden? (Sie können es auch gerne direkt ausprobieren.)\n",
    "    \n",
    "</div>\n"
   ]
  },
  {
   "cell_type": "markdown",
   "metadata": {},
   "source": [
    "#### Praxisbeispiel XML\n",
    "\n",
    "Ein Datenformat zur Serialisierung nahezu beliebig komplexer Daten in Baumstruktur ist die *Extensible Markup Language* (XML), die wir bereits im Abschnitt [Dateiformate](#5_Dateiformate.ipynb) kennengelernt haben. Wir schauen uns hier kurz an, [wie XML-Daten mittels Python verarbeitet werden können](https://docs.python.org/3/library/xml.html). Für das *Lesen* von XML-Dateien stellt Python im Wesentlichen zwei Lösungen zur Verfügung:\n",
    "\n",
    "- Eine XML-Datei kann mit Hilfe des Moduls [xml.etree.ElementTree](https://docs.python.org/3/library/xml.etree.elementtree.html#module-xml.etree.ElementTree) in eine abstrakte Datenstruktur im Hauptspeicher eingelesen werden und danach kann diese Datenstruktur weiterverarbeitet werden. \n",
    "- Eine XML-Datei kann mit Hilfe des Moduls [xml.sax](https://docs.python.org/3/library/xml.sax.html#module-xml.sax) Ereignis-basiert nach dem SAX-Standard ([Simple API for XML](https://en.wikipedia.org/wiki/Simple_API_for_XML)) verarbeitet werden. Dabei erzeugt jeder Knoten im XML-Baum ein Ereignis, um dessen Verarbeitung sich die Programmiererin kümmern muss.\n",
    "\n",
    "Schauen wir uns die Unterschiede an einem Beispiel an. Angenommen, wir wollen die Daten aus dem oben angelegten assoziativen Feld"
   ]
  },
  {
   "cell_type": "code",
   "execution_count": null,
   "metadata": {},
   "outputs": [],
   "source": [
    "entry = {\n",
    "    \"key\"       : \"dudley1983trisector\",\n",
    "    \"title\"     : \"What To Do When The Trisector Comes\",\n",
    "    \"author\"    : \"Dudley, Underwood\",\n",
    "    \"year\"      : 1983,\n",
    "    \"journal\"   : \"The Mathematical Intelligencer\",\n",
    "    \"number\"    : 1,\n",
    "    \"volume\"    : 5,\n",
    "    \"pages\"     : \"20--25\",\n",
    "    \"publisher\" : \"Springer-Verlag\",\n",
    "    \"address\"   : \"New York\"\n",
    "}"
   ]
  },
  {
   "cell_type": "markdown",
   "metadata": {},
   "source": [
    "in einer XML-Datei speichern. Dann könnten wir beispielsweise einen Wurzelknoten \"publications\" erzeugen"
   ]
  },
  {
   "cell_type": "code",
   "execution_count": null,
   "metadata": {},
   "outputs": [],
   "source": [
    "import xml.etree.ElementTree as ET\n",
    "wurzel = ET.Element(\"publications\")"
   ]
  },
  {
   "cell_type": "markdown",
   "metadata": {},
   "source": [
    "und den Eintrag als \"publication\" zur Wurzel"
   ]
  },
  {
   "cell_type": "code",
   "execution_count": null,
   "metadata": {},
   "outputs": [],
   "source": [
    "eintrag = ET.SubElement(wurzel, \"publication\")"
   ]
  },
  {
   "cell_type": "markdown",
   "metadata": {},
   "source": [
    "und alle Schlüssel-Wert-Paare des Eintrags hinzufügen:"
   ]
  },
  {
   "cell_type": "code",
   "execution_count": null,
   "metadata": {},
   "outputs": [],
   "source": [
    "for key in entry:                      # alle Schlüssel des assoziativen Feldes durchlaufen\n",
    "    elem = ET.SubElement(eintrag, key) # neues XML-Tag als \"Kind\" von \"publication\" erzeugen\n",
    "    elem.text = str(entry[key])        # Wert des Schlüssels als Text im XML-Tag ablegen"
   ]
  },
  {
   "cell_type": "markdown",
   "metadata": {},
   "source": [
    "Schließlich können wir mittels [`write`](https://docs.python.org/3/library/xml.etree.elementtree.html#xml.etree.ElementTree.ElementTree.write) das Ergebnis in eine XML-Datei schreiben oder mittels [`tostring`](https://docs.python.org/3/library/xml.etree.elementtree.html#xml.etree.ElementTree.tostring) auf dem Bildschirm ausgeben:"
   ]
  },
  {
   "cell_type": "code",
   "execution_count": null,
   "metadata": {},
   "outputs": [],
   "source": [
    "xmlzeichenkette = ET.tostring(wurzel, encoding=\"unicode\") # Datenstruktur in eine Zeichenkette umwandeln\n",
    "xmlzeichenkette"
   ]
  },
  {
   "cell_type": "markdown",
   "metadata": {},
   "source": [
    "bzw. etwas schöner durch farbliche Hervorhebung und Einrückung:"
   ]
  },
  {
   "cell_type": "code",
   "execution_count": null,
   "metadata": {},
   "outputs": [],
   "source": [
    "from IPython.display import display, Markdown\n",
    "import xml.dom.minidom\n",
    "\n",
    "display(Markdown(\"```xml\\n\" + xml.dom.minidom.parseString(xmlzeichenkette).toprettyxml() + \"\\n```\"))"
   ]
  },
  {
   "cell_type": "markdown",
   "metadata": {},
   "source": [
    "Umgekehrt können wir mittels [`fromstring`](https://docs.python.org/3/library/xml.etree.elementtree.html#xml.etree.ElementTree.fromstring) die Zeichenkette wieder einlesen und eine Datenstruktur im Hauptspeicher erstellen:"
   ]
  },
  {
   "cell_type": "code",
   "execution_count": null,
   "metadata": {},
   "outputs": [],
   "source": [
    "root = ET.fromstring(xmlzeichenkette)\n",
    "root.tag"
   ]
  },
  {
   "cell_type": "markdown",
   "metadata": {},
   "source": [
    "Diese können wir dann durchlaufen, um die für uns relevanten Informationen zu extrahieren:"
   ]
  },
  {
   "cell_type": "code",
   "execution_count": null,
   "metadata": {},
   "outputs": [],
   "source": [
    "entries = []                                      # Ergebnisliste: hier landen alle Publikationen\n",
    "for child in root:                                # alle Kind-Knoten durchlaufen\n",
    "    entry = {}                                    # neuen Eintrag als assoziatives Feld erzeugen\n",
    "    for grandchild in child:                      # alle Kindeskinder-Knoten (Enkel) durchlaufen\n",
    "        entry[grandchild.tag] = grandchild.text   # Schlüssel-Wert-Paare erzeugen\n",
    "    entries.append(entry)                         # fertigen Eintrag zur Liste hinzufügen\n",
    "\n",
    "entries                                           # Liste anzeigen"
   ]
  },
  {
   "cell_type": "markdown",
   "metadata": {},
   "source": [
    "Wir verarbeiten die Daten im Grunde analog zur Erzeugung der XML-Daten, nur rückwärts: wir durchlaufen die XML-Datenstruktur und erzeugen daraus die Datenstrukturen, die wir gerne hätten (in diesem Fall eine Liste in der jedes Element ein assoziatives Feld ist).\n",
    "\n",
    "Die andere Möglichkeit – die Verarbeitung mittels [SAX](https://docs.python.org/3/library/xml.sax.html#module-xml.sax) ist vor allem für große Datenmengen relevant, da dabei die XML-Daten nicht erst komplett in den Hauptspeicher eingeladen werden. Stattdessen wird beim Lesen der XML-Datei spezieller (in der Regel selbst zu implementierender) Code aufgerufen, der die Verarbeitung der gerade gelesenen Daten direkt übernimmt. Dadurch können beispielsweise nur relevante Daten in den Hauptspeicher (oder gar in ein Datenbankmanagementsystem) geladen werden oder direkt die gewünschten Datenstrukturen erzeugt werden. Der deutlich komplexere Umgang mit SAX sprengt jedoch leider den Rahmen dieser Lerneinheit. \n",
    "\n",
    "Zum Abschluss sei noch auf zwei Punkte verwiesen:\n",
    "- Eine mögliche Serialisierungsform des [Resource Description Frameworks](https://en.wikipedia.org/wiki/Resource_Description_Framework) (RDF) ist [RDF/XML](https://en.wikipedia.org/wiki/RDF/XML). Dabei wird die Graph-Struktur von RDF auf die Baumstruktur von XML abgebildet. Leider ist diese Abbildung nicht eindeutig, so dass ein und dasselbe RDF-Dokument verschiedene RDF/XML-Repräsentationen besitzen kann.\n",
    "- Das GitLab-Repositorium [notebooks](https://scm.cms.hu-berlin.de/ibi/notebooks) enthält einige Jupyter-Notebooks mit Beispielen zum Verarbeiten und Umformen von Daten (z.B. JSON) und ist ein guter Ausgangspunkt für eigene Experimente mit Jupyter."
   ]
  },
  {
   "cell_type": "markdown",
   "metadata": {},
   "source": [
    "\n",
    "<div class=\"alert alert-warning\">\n",
    "\n",
    "### Exkurs: DNB und Wikidata\n",
    "\n",
    "<div class=\"row\" style=\"margin-top: 1em\">\n",
    "  <div class=\"col-xs-12 col-sm-6\" style=\"padding-right:1em;\">\n",
    "    <img style=\"height:140px\" title=\"DNB\" alt=\"DNB logo\" src=\"https://upload.wikimedia.org/wikipedia/commons/5/5f/DNB.svg\">\n",
    "  </div>\n",
    "  <div class=\"col-xs-12 col-sm-6\" style=\"padding-left:1em;\">\n",
    "    <img style=\"height:140px\" title=\"Wikidata\" alt=\"Wikidata logo\" src=\"https://upload.wikimedia.org/wikipedia/commons/6/66/Wikidata-logo-en.svg\">\n",
    "  </div>\n",
    "</div>\n",
    "\n",
    "\n",
    "Ausgehend von einer [Analyse zu überlangen Büchern im Bestand der\n",
    "Deutschen\n",
    "Nationalbibliothek](https://weltliteratur.net/Empirical-Data-on-Over-Length-Books/)\n",
    "(DNB) [haben wir die Romane im Bestand der DNB genauer\n",
    "untersucht](https://github.com/weltliteratur/dnb). Dafür wollten wir\n",
    "das Korpus insbesondere auf \"bekannte\" Autor:innen beschränken und\n",
    "haben dies operationalisiert als \"Autor:innen mit einer\n",
    "Wikipedia-Seite\" (also implizit die [Relevanz-Kriterien von\n",
    "Wikipedia](https://de.wikipedia.org/wiki/Wikipedia:Relevanzkriterien)\n",
    "übernommen).\n",
    "\n",
    "\n",
    "Als Datenquellen nutzten wir:\n",
    "- die [Titeldaten der DNB im\n",
    "  RDF-Format](https://data.dnb.de/opendata/dnb-all_lds.rdf.gz)\n",
    "  (Quelle: [DNB-Datendienst](https://data.dnb.de/opendata/)) und \n",
    "- die [Daten zu Entitäten in\n",
    "  Wikidata](https://dumps.wikimedia.org/wikidatawiki/entities/) im\n",
    "  JSON-Format (Quelle:\n",
    "  [Wikidata](https://www.wikidata.org/wiki/Wikidata:Database_download/de)).\n",
    "\n",
    "Wir wollten die Titeldaten der DNB mit den Wikidata-Daten zu\n",
    "Autor:innen mit Hilfe der GND-ID der Autor:innen verknüpfen. Dies ist\n",
    "ein klassisches Datenintegrationsproblem und in unserem Analyseprozess\n",
    "Teil der Datenvorverarbeitung. Es ergaben sich dabei unter anderem\n",
    "die folgenden Herausforderungen:\n",
    "- Der *Umfang* der DNB-Daten (komprimiert 1.6GiB, unkomprimiert 21GiB)\n",
    "  und das verwendete *Dateiformat* (RDF/XML) verlangten nach einem\n",
    "  Rechner mit sehr viel Hauptspeicher, denn gängige\n",
    "  Softwarebibliotheken verarbeiten RDF typischerweise (nur) im\n",
    "  Hauptspeicher.\n",
    "- Die [*SPARQL-Anfrage an\n",
    "  Wikidata*](https://query.wikidata.org/#%20%20SELECT%20%3Fitem%20%3FitemLabel%0A%20%20WHERE%0A%20%20{%0A%20%20%20%20%3Fitem%20wdt%3AP106%2Fwdt%3AP279*%20wd%3AQ36180%20.%20%20%20%23%20occupation%28P106%29%20is%20writer%28Q36180%29%20or%20a%20subclass%28P279%29%0A%20%20%20%20SERVICE%20wikibase%3Alabel%20{%20%20%20%20%20%20%20%20%20%20%20%20%20%20%20%23%20...%20include%20the%20labels%0A%20%20%20%20%20%20bd%3AserviceParam%20wikibase%3Alanguage%20%22en%22%0A%20%20%20%20}%0A%20%20}%0A%20%20LIMIT%2010%0A)\n",
    "  zur Extraktion der relevanten Autor:innen lieferte aufgrund Ihrer\n",
    "  Komplexität einen Query-Timeout.\n",
    "- Der *Umfang* und das *Format* der Wikidata-Datendumps benötigten\n",
    "  spezielle Werkzeug zur Verarbeitung.\n",
    "\n",
    "Wir lösten dies mit folgenden Kniffen:\n",
    "- Für die DNB-Daten schrieben wir [einen speziellen\n",
    "  SAX-Parser](https://github.com/weltliteratur/dnb/blob/master/rdf2json.py),\n",
    "  der nur die für uns relevanten Daten aus dem RDF/XML-Datendump\n",
    "  herausextrahierte. Dabei ignorieren wir das RDF-Modell und verlassen\n",
    "  uns auf die XML-Struktur. Wir müssen daher die Daten nicht in den\n",
    "  Hauptspeicher einladen, laufen aber in Probleme, wenn sich die\n",
    "  XML-Repräsentation ändert (das gleiche RDF-Modell kann auf\n",
    "  verschiedene Weise in XML serialisiert werden).\n",
    "- Zum Verarbeiten der Wikidata-Datendumps verwendeten wir das\n",
    "  [Wikidata-Toolkit](https://github.com/Wikidata/Wikidata-Toolkit). Dies\n",
    "  erforderte die Implementierung [einer speziellen\n",
    "  Java-Klasse](https://github.com/weltliteratur/wikidata) was\n",
    "  technisch zwar keine Herausforderung darstellte, aber unseren\n",
    "  Workflow zerbrach, da wir ursprünglich lediglich Python- und\n",
    "  Shell-Skripte verwenden wollten.\n",
    "- Die Ergebnisse beider Extraktionsprozesse haben wir im JSON-Format\n",
    "  gespeichert und dann mit Hilfe [eines\n",
    "  Python-Skripts](https://github.com/weltliteratur/dnb/blob/master/json2json.py)\n",
    "  weiterverarbeitet (u.A. normalisiert, verbunden, gefiltert).\n",
    "\n",
    "Ein Überblick über das Framework gibt die folgende Abbildung:\n",
    "\n",
    "![Framework](https://lehkost.github.io/slides/2018-koeln/images/framework.svg)\n",
    "\n",
    "Ein Teil der Ergebnisse wird in [diesem\n",
    "Vortrag](https://lehkost.github.io/slides/2018-koeln/) vorgestellt und\n",
    "ein anderer Teil demnächst im Metzler-Verlag veröffentlicht.\n",
    "\n",
    "</div>\n"
   ]
  },
  {
   "cell_type": "markdown",
   "metadata": {},
   "source": [
    "\n",
    "<div class=\"alert alert-success\">\n",
    "\n",
    "## Aufgaben\n",
    "### Komplexität selbst erfahren\n",
    "\n",
    "*erwarteter Zeitaufwand: ca. 1 Stunde*\n",
    "\n",
    "Vergleichen Sie die empirische Zeitkomplexität der drei\n",
    "Grundoperationen *Lesen*, *Einfügen* und *Entfernen* indem Sie den\n",
    "nachfolgenden Python-Code ausführen und ergänzen:\n",
    "\n",
    "</div>\n"
   ]
  },
  {
   "cell_type": "code",
   "execution_count": null,
   "metadata": {},
   "outputs": [],
   "source": [
    "%matplotlib inline\n",
    "from random import randint                      # Zufallszahlen\n",
    "from time import process_time                   # Zeitmessung\n",
    "import matplotlib.pyplot as plt                 # Plotten\n",
    "import numpy as np                              # mehrdimensionale Felder\n",
    "plt.rcParams['figure.figsize'] = [10, 10]       # Plotgröße\n",
    "\n",
    "# Experimentieren Sie mit verschiedenen Werten für die folgenden beiden Variablen\n",
    "faktor = 10                                     # Anzahl Operationen = faktor * groesse\n",
    "groessen = [100, 1000, 2500, 5000, 7500, 10000] # Listenlängen die wir durchprobieren\n",
    "messdaten = []                                  # hier landen unsere Ergebnisse\n",
    "\n",
    "for g in groessen:                              # alle Listenlängen durchlaufen\n",
    "    A = [randint(0, g) for e in range(g)]       # Liste mit Zufallszahlen erzeugen\n",
    "\n",
    "    # Lesen\n",
    "    zeit_lesen = process_time()                 # Zeit messen\n",
    "    for i in range(g * faktor):                 # Anzahl Lese-Operationen\n",
    "        A[randint(0, g - 1)]                    # Zufallsstelle lesen\n",
    "    zeit_lesen = process_time() - zeit_lesen    # verstrichene Zeit in Sekunden messen\n",
    "\n",
    "    # Einfügen\n",
    "    B = A.copy()                                # eine Kopie der Liste erstellen\n",
    "    zeit_einf = process_time()                  # Zeit messen\n",
    "    for i in range(g * faktor):                 # die Größe von B vervielfachen (Anzahl Einfügungen!)\n",
    "        B.insert(randint(0, len(B)), \"A\")       # \"A\" an Zufallsstelle einfügen\n",
    "    zeit_einf = process_time() - zeit_einf      # verstrichene Zeit in Sekunden messen\n",
    "\n",
    "    # Entfernen\n",
    "    # Ergänzen Sie hier den Code\n",
    "\n",
    "    messdaten.append([g, zeit_lesen, zeit_einf]) # Ergebnis in Liste speichern\n",
    "\n",
    "md = np.array(messdaten)                        # Liste in Feld umwandeln\n",
    "plt.plot(md[:,0], md[:,0]**2, label='n²')       # g(n) = n² zum Vergleich\n",
    "plt.plot(md[:,0], md[:,0], label='n')           # g(n) = n  zum Vergleich\n",
    "plt.plot(md[:,0], md[:,1], label='Lesen')       # Lesen plotten\n",
    "plt.plot(md[:,0], md[:,2], label='Einfügen')    # Einfügen plotten\n",
    "plt.legend(loc='upper left')                    # Legende\n",
    "#plt.yscale(\"log\")                              # logarithmische y-Achse\n",
    "plt.grid()                                      # Gitterlinien\n",
    "plt.show()"
   ]
  },
  {
   "cell_type": "markdown",
   "metadata": {},
   "source": [
    "\n",
    "<div class=\"alert alert-success\">\n",
    "\n",
    "- Welche Herausforderungen ergeben sich beim Implementieren von\n",
    "  *Entfernen* und beim anschließenden Vergleich mit *Lesen* und\n",
    "  *Einfügen*?\n",
    "- Wie können Sie geeignete Werte für die Größe der Liste und die\n",
    "  Anzahl der durchzuführenden Operationen auswählen?\n",
    "- Welche Zeitkomplexität beobachten Sie für die verschiedenen\n",
    "  Operationen?\n",
    "- Inwiefern stimmen diese mit den Angaben für verkettete Listen in der\n",
    "  Tabelle im [Abschnitt Grundlegende\n",
    "  Operationen](#Grundlegende-Operationen) (nicht) überein? Wie lassen\n",
    "  sich die Unterschiede mit Hilfe der Angaben aus der\n",
    "  [Python-Dokumentation](https://wiki.python.org/moin/TimeComplexity)\n",
    "  erklären?\n",
    "- Optional: messen Sie die Laufzeit für die Operation *Schreiben*. Wie\n",
    "  verhält sich diese im Vergleich zu den anderen Operationen?\n",
    "\n",
    "**Abschluss:** Dokumentieren Sie Ihre Ergebnisse und Erkenntnisse in Ihrer [speziellen Arbeitsleistung](Vorlage_Spezielle_Arbeitsleistung.ipynb).\n",
    "\n",
    "</div>\n"
   ]
  },
  {
   "cell_type": "markdown",
   "metadata": {},
   "source": [
    "\n",
    "<div class=\"alert alert-success\">\n",
    "\n",
    "### Empirischer Vergleich der Zeitkomplexität verschiedener Sortierverfahren\n",
    "\n",
    "*erwarteter Zeitaufwand: ca. 1 Stunde*\n",
    "\n",
    "Vergleichen Sie die empirische Zeitkomplexität von *Insertion Sort*\n",
    "mit dem in Python integrierten Sortierverfahren (`sorted`). Nutzen Sie\n",
    "für Insertion Sort und die Durchführung des Vergleichs den Code aus\n",
    "dem Abschnitt zur [empirischen Bestimmung der\n",
    "Zeitkomplexität](7_Komplexitaet.ipynb#Empirische-Bestimmung-der-Zeitkomplexit%C3%A4t).\n",
    "\n",
    "Beachten Sie folgende Hinweise für die Durchführung:\n",
    "- Fügen Sie vor dem Code zur Zeitmessung die Funktion [insertion_sort](7_Komplexitaet.ipynb#Beispiel:-Insertion-Sort) ein.\n",
    "- Übergeben Sie mittels `A.copy()` der Sortierfunktion jeweils eine\n",
    "  Kopie der Liste `A` (sonst übergeben Sie u.U. eine schon sortierte\n",
    "  Liste).\n",
    "- Messen Sie die Zeit für den Aufruf von `sorted(A.copy())` mit Hilfe\n",
    "  einer neuen Variable und fügen Sie das Ergebnis zu den Messdaten\n",
    "  hinzu.\n",
    "- Ändern Sie den Aufruf von `plt.plot()` für Insertion Sort, so dass\n",
    "  statt der Anzahl der Vergleiche (`md[:,1]`) die Laufzeit (`md[:,2]`)\n",
    "  geplottet wird.\n",
    "- Fügen Sie dann eine weitere Zeile zum Plotten der neuen Daten hinzu,\n",
    "  die sich in `md[:,3]` befinden sollten.\n",
    "- Experimentieren Sie mit den vorgegebenen Listenlängen und fügen Sie\n",
    "  ggf. größere Längen hinzu (Sie sollten dann auch bemerken, dass sich\n",
    "  die Laufzeit deutlich erhöht).\n",
    "- Um das Wachstum der Kurve für `sorted` besser sehen zu können,\n",
    "  können Sie mit Hilfe von `plt.yscale(\"log\")` die y-Achse\n",
    "  logarithmisch skalieren.\n",
    "- Der Code für Insertion läuft etwas langsamer als eigentlich nötig,\n",
    "  da wir Code zum Zählen der Vergleiche eingefügt haben. Falls Sie\n",
    "  sich trauen, entfernen Sie den entsprechenden Code.\n",
    "- Sie können auch gerne noch weitere Vergleichsfunktionen zum Plot\n",
    "  hinzufügen, insbesondere $n \\log_2 n$ (die theoretische\n",
    "  Zeitkomplexität von `sorted`). Ein Beispiel dafür finden Sie [am\n",
    "  Ende der Lerneinheit\n",
    "  Komplexität](7_Komplexitaet.ipynb#Komplexit%C3%A4t-von-Problemen).\n",
    "\n",
    "</div>\n"
   ]
  },
  {
   "cell_type": "code",
   "execution_count": null,
   "metadata": {},
   "outputs": [],
   "source": [
    "# Fügen Sie hier den Code für Insertion Sort und die Messung/Visualisierung ein."
   ]
  },
  {
   "cell_type": "markdown",
   "metadata": {},
   "source": [
    "\n",
    "<div class=\"alert alert-success\">\n",
    "\n",
    "Welches Verhalten können Sie beobachten? Können Sie einen Unterschied\n",
    "in der Laufzeit von Insertion Sort und dem in Python integrierten\n",
    "Sortierverfahren feststellen? Entspricht die empirische\n",
    "Zeitkomplexität der theoretischen?\n",
    "\n",
    "**Abschluss:** Posten Sie Ihre Ergebnisse und Erkenntnisse im Forum.\n",
    "\n",
    "</div>\n"
   ]
  },
  {
   "cell_type": "markdown",
   "metadata": {},
   "source": [
    "\n",
    "<div class=\"alert alert-success\">\n",
    "\n",
    "### XKCD\n",
    "\n",
    "*erwarteter Zeitaufwand: ca. 2 Stunden; Ergänzungsaufgabe*\n",
    "\n",
    "Lesen Sie für eine Auswahl (z.B. drei) der XKCD-Comics (in dieser und\n",
    "den vorherigen Lerneinheiten) die Erklärung auf\n",
    "https://www.explainxkcd.com/ und erarbeiten Sie sich die Bedeutung\n",
    "bzw. den Zusammenhang zur jeweiligen Lerneinheit. Welche zusätzlichen\n",
    "Erkenntnisse haben sich dadurch ergeben? Inwiefern sind die Comics\n",
    "geeignet, Wissen zu hinterfragen und zu ergänzen?\n",
    "\n",
    "**Abschluss:** Posten Sie für einen Comic Ihre Erkenntnisse im Forum.\n",
    "\n",
    "</div>\n"
   ]
  }
 ],
 "metadata": {
  "language_info": {
   "name": "python",
   "pygments_lexer": "ipython3"
  }
 },
 "nbformat": 4,
 "nbformat_minor": 2
}
