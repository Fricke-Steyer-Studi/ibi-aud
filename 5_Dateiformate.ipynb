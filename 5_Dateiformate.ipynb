{
 "cells": [
  {
   "cell_type": "markdown",
   "metadata": {},
   "source": [
    "# Dateiformate"
   ]
  },
  {
   "cell_type": "markdown",
   "metadata": {},
   "source": [
    "<!-- markdown-toc start - Don't edit this section. Run M-x markdown-toc-generate-toc again -->\n",
    "## Inhalt\n",
    "\n",
    "- [Lernziele](#Lernziele)\n",
    "- [Material](#Material)\n",
    "- [Aufgaben](#Aufgaben)\n",
    "\n",
    "<!-- markdown-toc end -->\n"
   ]
  },
  {
   "cell_type": "markdown",
   "metadata": {},
   "source": [
    "\n",
    "<div class=\"alert alert-info\">\n",
    "\n",
    "### Lernziele\n",
    "\n",
    "- grundlegende Konzepte zu Dateiformaten kennen\n",
    "- Beispiele für Dateiformate zur Repräsentation abstrakter Datenstrukturen (z.B. XML, JSON, RDF) kennen\n",
    "    \n",
    "</div>\n"
   ]
  },
  {
   "cell_type": "markdown",
   "metadata": {},
   "source": [
    "## Material\n",
    "\n",
    "<div class=\"alert alert-warning\">\n",
    "\n",
    "Dateien und Dateiformate (z.B. SVG oder BMP) sind uns bereits in der Lerneinheit [Repräsentation von Text, Bild, Ton](3_Repraesentation_von_Text_Bild_Ton.ipynb) begegnet. In dieser Lerneinheit befassen wir uns einerseits mit Grundkonzepten von Dateiformaten und lernen andererseits weitere Dateiformate kennen.\n",
    "    \n",
    "</div>\n",
    "\n",
    "Diese Lerneinheit wird vollständig in der Präsenzzeit behandelt. Nachfolgenden finden Sie die Vortragsfolien sowie Hinweise zur Gruppenarbeit."
   ]
  },
  {
   "cell_type": "markdown",
   "metadata": {},
   "source": [
    "### Datei\n",
    "\n",
    "![Dateien](https://amor.cms.hu-berlin.de/~jaeschkr/teaching/damostin/beispieldateien.png)"
   ]
  },
  {
   "cell_type": "markdown",
   "metadata": {},
   "source": [
    "Was ist eine Datei?\n",
    "- eine Einheit in einem Dateisystem\n",
    "- Folge von Bits auf dem Massenspeicher (\"one-dimensional array of bytes\")\n",
    "- hat Name, Ort, Größe\n",
    "- ggf. weitere Attribute (je nach Dateisystem)"
   ]
  },
  {
   "cell_type": "markdown",
   "metadata": {},
   "source": [
    "### Dateiformat\n",
    "\n",
    "![Dateien](https://amor.cms.hu-berlin.de/~jaeschkr/teaching/damostin/dateien.png)"
   ]
  },
  {
   "cell_type": "markdown",
   "metadata": {},
   "source": [
    "Was ist ein Dateiformat?\n",
    "- Vereinbarung/Standard zur Organisation der Daten innerhalb einer Datei\n",
    "- verschiedene Dateiformate für verschiedene Zwecke / Arten von Daten\n",
    "\n",
    "Wie kann man das Format einer Datei identifizieren?\n",
    "- Dateiendung, Magic Number, Kopfdaten, Dateisystem-Metadaten, (MIME-Typ), etc.\n",
    "\n",
    "Wie kann man Dateiformate unterschieden?\n",
    "- → die folgenden Folien"
   ]
  },
  {
   "cell_type": "markdown",
   "metadata": {},
   "source": [
    "#### binär vs. \"plain text\"\n",
    "\n",
    "<img src=\"https://amor.cms.hu-berlin.de/~jaeschkr/teaching/damostin/binaer.png\" style=\"float:left; width:45%;\" alt=\"Binärdatei im Texteditor\"/>\n",
    "\n",
    "<img src=\"https://amor.cms.hu-berlin.de/~jaeschkr/teaching/damostin/plaintext.png\" style=\"float:right; width:45%;\" alt='\"plain text\"-Datei im Texteditor'/>"
   ]
  },
  {
   "cell_type": "markdown",
   "metadata": {},
   "source": [
    "#### proprietär vs. frei und offen vs. nicht öffentlich\n",
    "\n",
    "<img title=\"Arten von Dateiformaten\" src=\"https://amor.cms.hu-berlin.de/~jaeschkr/teaching/damostin/dateiformate.svg\" style=\"width: 70%\"/>\n",
    "\n",
    "Siehe [WP: Open format](https://en.wikipedia.org/wiki/Open_format) und [WP: Proprietary format](https://en.wikipedia.org/wiki/Proprietary_format)."
   ]
  },
  {
   "cell_type": "markdown",
   "metadata": {},
   "source": [
    "- offen: publizierte Spezifikation\n",
    "- frei: keine Nutzungsbeschränkungen (z.B. durch Urheberrechte, Patente, Markenrechte)\n",
    "- [Open Government Directive](https://obamawhitehouse.archives.gov/open/documents/open-government-directive): \"*An open format is one that is platform independent, machine readable, and made available to the public without restrictions that would impede the re-use of that information*\"\n",
    "\n",
    "Siehe [WP: Open format](https://en.wikipedia.org/wiki/Open_format) und [WP: Proprietary format](https://en.wikipedia.org/wiki/Proprietary_format)."
   ]
  },
  {
   "cell_type": "markdown",
   "metadata": {},
   "source": [
    "#### Spezifisch vs. Container\n",
    "\n",
    "##### Spezifisch\n",
    "- Festlegung auf eine Art von Daten\n",
    "- oft auch genau ein Datensatz"
   ]
  },
  {
   "cell_type": "markdown",
   "metadata": {},
   "source": [
    "##### Container-Dateiformate\n",
    "- \"Hülle\" für verschieden Arten und Mengen von Daten \n",
    "- Metadaten beschreiben Inhalt\n",
    "- Beispiele:\n",
    "  - [Interchange File Format](https://en.wikipedia.org/wiki/Interchange_File_Format) (AIFF, RIFF, IFF-ILBM)\n",
    "  - Archive (ZIP, TAR)\n",
    "  - Multimedia-Dateien (TIFF, AVI, MP4, OGG)\n",
    "\n",
    "<img src=\"https://amor.cms.hu-berlin.de/~jaeschkr/teaching/damostin/video_container.svg\" alt=\"Video Container\" style=\"width: 50%;\"/>\n",
    "\n",
    "https://www.w3.org/2008/Talks/24-video/Overview.html#(9)"
   ]
  },
  {
   "cell_type": "markdown",
   "metadata": {},
   "source": [
    "### Beispiel: Windows Bitmap\n",
    "![Beispiel: Windows Bitmap](https://amor.cms.hu-berlin.de/~jaeschkr/teaching/damostin/beispiel1_bytes.svg)"
   ]
  },
  {
   "cell_type": "markdown",
   "metadata": {},
   "source": [
    "\n",
    "| Eigenschaft   | Wert |\n",
    "|---------------|------|\n",
    "| Nutzbarkeit   | proprietär ([OSP](https://en.wikipedia.org/wiki/Microsoft_Open_Specification_Promise)), offen |\n",
    "| Art des Dateiformats | binär, spezifisch |\n",
    "| Art der Daten | Rastergrafik | \n",
    "| Dateiendungen | .bmp, .dib |\n",
    "| MIME-Typen    | image/x-ms-bmp, image/x-bmp, image/bmp |\n",
    "| Magic Number  | `424D` (hex), `BM` (ASCII) |"
   ]
  },
  {
   "cell_type": "markdown",
   "metadata": {},
   "source": [
    "### Beispiel: JSON\n",
    "\n",
    "```json\n",
    "{\n",
    "  \"created_at\": \"Thu Apr 06 15:24:15 +0000 2017\",\n",
    "  \"id_str\": \"850006245121695744\",\n",
    "  \"text\": \"1\\/ Today we\\u2019re sharing our vision for the future of the Twitter API platform!\\nhttps:\\/\\/t.co\\/XweGngmxlP\",\n",
    "  \"user\": {\n",
    "    \"id\": 2244994945,\n",
    "    \"name\": \"Twitter Dev\",\n",
    "    \"screen_name\": \"TwitterDev\",\n",
    "    \"location\": \"Internet\",\n",
    "    \"url\": \"https:\\/\\/dev.twitter.com\\/\",\n",
    "    \"description\": \"Your official source for Twitter Platform news, updates & events. Need technical help? Visit https:\\/\\/twittercommunity.com\\/ \\u2328\\ufe0f #TapIntoTwitter\"\n",
    "  },\n",
    "  \"place\": { },\n",
    "  \"entities\": {\n",
    "    \"hashtags\": [ ],\n",
    "    \"urls\": [\n",
    "      {\n",
    "        \"url\": \"https:\\/\\/t.co\\/XweGngmxlP\",\n",
    "        \"unwound\": {\n",
    "          \"url\": \"https:\\/\\/cards.twitter.com\\/cards\\/18ce53wgo4h\\/3xo1c\",\n",
    "          \"title\": \"Building the Future of the Twitter API Platform\"\n",
    "        }\n",
    "      }\n",
    "    ],\n",
    "  }\n",
    "}\n",
    "\n",
    "```"
   ]
  },
  {
   "cell_type": "code",
   "execution_count": null,
   "metadata": {},
   "outputs": [],
   "source": [
    "import json\n",
    "\n",
    "nb = json.load(open(\"5_Dateiformate.ipynb\", \"r\"))\n",
    "nb"
   ]
  },
  {
   "cell_type": "code",
   "execution_count": null,
   "metadata": {},
   "outputs": [],
   "source": [
    "nb.keys()"
   ]
  },
  {
   "cell_type": "code",
   "execution_count": null,
   "metadata": {},
   "outputs": [],
   "source": [
    "for c in nb[\"cells\"]:\n",
    "    if \"slideshow\" in c[\"metadata\"].keys():\n",
    "        print(c[\"metadata\"][\"slideshow\"][\"slide_type\"])"
   ]
  },
  {
   "cell_type": "markdown",
   "metadata": {},
   "source": [
    "### Beispiel: JSON – Diskussion"
   ]
  },
  {
   "cell_type": "markdown",
   "metadata": {},
   "source": [
    "- binär oder plain text?"
   ]
  },
  {
   "cell_type": "markdown",
   "metadata": {},
   "source": [
    "- proprietär oder frei?"
   ]
  },
  {
   "cell_type": "markdown",
   "metadata": {},
   "source": [
    "- offen oder nicht öffentlich?"
   ]
  },
  {
   "cell_type": "markdown",
   "metadata": {},
   "source": [
    "- Container oder spezifisch?"
   ]
  },
  {
   "cell_type": "markdown",
   "metadata": {},
   "source": [
    "### Beschreibung von Dateiformaten"
   ]
  },
  {
   "cell_type": "markdown",
   "metadata": {},
   "source": [
    "#### natürliche Sprache, Abbildungen\n",
    "\n",
    "> \"The Photoshop file format is divided into five major parts, as shown in the Photoshop file structure. The Photoshop file format has many length markers. Use these length markers to move from one section to the next. The length markers are usually padded with bytes to round to the nearest 2 or 4 byte interval.\"\n",
    "\n",
    "Quelle: [Adobe Photoshop File Formats Specification, November 2019](https://www.adobe.com/devnet-apps/photoshop/fileformatashtml/#50577409_pgfId-1036097)"
   ]
  },
  {
   "cell_type": "markdown",
   "metadata": {},
   "source": [
    "#### formale Sprachen\n",
    "\n",
    "- [Backus-Naur-Form](https://de.wikipedia.org/wiki/Backus-Naur-Form) (BNF, bzw. [EBNF](https://en.wikipedia.org/wiki/Extended_Backus%E2%80%93Naur_form) oder [ABNF](https://en.wikipedia.org/wiki/Augmented_Backus%E2%80%93Naur_form)): z.B. [Rich Text Format](https://interoperability.blob.core.windows.net/files/Archive_References/%5bMSFT-RTF%5d.pdf) (RTF):\n",
    "\n",
    "    ```EBNF\n",
    "    File = \"{\" header document \"}\"\n",
    "    ```\n",
    "- [Abstract Syntax Notation One](https://de.wikipedia.org/wiki/Abstract_Syntax_Notation_One) (ASN.1), z.B. [RFC 5280 Internet X.509 Public Key Infrastructure Certificate and Certificate Revocation List (CRL) Profile](https://tools.ietf.org/html/rfc5280):\n",
    "\n",
    "    ```ASN.1\n",
    "    GeneralSubtree ::= SEQUENCE {\n",
    "         base                    GeneralName,\n",
    "         minimum         [0]     BaseDistance DEFAULT 0,\n",
    "         maximum         [1]     BaseDistance OPTIONAL }\n",
    "    \n",
    "    BaseDistance ::= INTEGER (0..MAX)\n",
    "    ```"
   ]
  },
  {
   "cell_type": "markdown",
   "metadata": {},
   "source": [
    "### Best Practices\n",
    "\n",
    "https://library.stanford.edu/research/data-management-services/data-best-practices/best-practices-file-formats"
   ]
  },
  {
   "cell_type": "markdown",
   "metadata": {},
   "source": [
    "### Ausblick\n",
    "\n",
    "- SAX-Parser, XSLT in [Operationen auf Datenstrukturen](8_Operationen_auf_Datenstrukturen.ipynb)"
   ]
  },
  {
   "cell_type": "markdown",
   "metadata": {},
   "source": [
    "## Aufgaben\n",
    "\n",
    "<div class=\"alert alert-success\">\n",
    "   \n",
    "\n",
    "      \n",
    "</div>"
   ]
  },
  {
   "cell_type": "markdown",
   "metadata": {},
   "source": [
    "\n",
    "### Dateiformate kennenlernen I\n",
    "\n",
    "Erarbeiten Sie in Ihrer Gruppe einen Überblick über ein konkretes Dateiformat: \n",
    "- Erkennen und beschreiben Sie **grundlegende Konzepte**, weniger die Details.\n",
    "- Nutzen Sie möglichst nicht nur Wikipedia als **Quelle** sondern auch offizielle Spezifikationen (falls vorhanden).\n",
    "- Jede Gruppe erhält einen Breakout-Raum, im Hauptraum stehe ich Ihnen für Fragen zur Verfügung.\n",
    "- Verteilen Sie die **Aufgaben** *Moderation*, *Dokumentation*, *Präsentation* und *Zeitmanagement* in Ihrer Gruppe.\n",
    "- Fassen Sie Ihre **Ergebnisse** für eine 2minütige Präsentation zusammen.\n",
    "- Zur Auswahl stehen die folgenden **Dateiformate**: [HDF5](https://en.wikipedia.org/wiki/Hierarchical_Data_Format), [FITS](https://en.wikipedia.org/wiki/FITS), [Matroska](https://en.wikipedia.org/wiki/Matroska), [IFF](https://en.wikipedia.org/wiki/Interchange_File_Format), [PNG](https://en.wikipedia.org/wiki/Portable_Network_Graphics), [RTF](https://en.wikipedia.org/wiki/Rich_Text_Format), [DXF](https://en.wikipedia.org/wiki/AutoCAD_DXF), [MOD](https://en.wikipedia.org/wiki/MOD_(file_format)) \n",
    "(bzw. siehe Umfrageergebnisse)\n"
   ]
  },
  {
   "cell_type": "markdown",
   "metadata": {},
   "source": [
    "\n",
    "### Dateiformate kennenlernen II\n",
    "\n",
    "Kurzpräsentationen der Gruppen (jeweils 2 Minuten)\n"
   ]
  }
 ],
 "metadata": {
  "language_info": {
   "name": "python",
   "pygments_lexer": "ipython3"
  }
 },
 "nbformat": 4,
 "nbformat_minor": 2
}
