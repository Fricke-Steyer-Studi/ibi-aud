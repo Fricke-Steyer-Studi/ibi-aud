{
 "cells": [
  {
   "cell_type": "markdown",
   "metadata": {},
   "source": [
    "# Dateiformate"
   ]
  },
  {
   "cell_type": "markdown",
   "metadata": {},
   "source": [
    "<!-- markdown-toc start - Don't edit this section. Run M-x markdown-toc-generate-toc again -->\n",
    "## Inhalt\n",
    "\n",
    "- [Lernziele](#Lernziele)\n",
    "- [Material](#Material)\n",
    "- [Aufgaben](#Aufgaben)\n",
    "\n",
    "<!-- markdown-toc end -->\n"
   ]
  },
  {
   "cell_type": "markdown",
   "metadata": {},
   "source": [
    "\n",
    "<div class=\"alert alert-info\">\n",
    "\n",
    "### Lernziele\n",
    "\n",
    "- grundlegende Konzepte zu Dateiformaten kennen\n",
    "- Beispiele für Dateiformate zur Repräsentation abstrakter Datenstrukturen (z.B. XML, JSON, RDF) kennen\n",
    "    \n",
    "</div>\n"
   ]
  },
  {
   "cell_type": "markdown",
   "metadata": {},
   "source": [
    "## Material\n",
    "\n",
    "<div class=\"alert alert-warning\">\n",
    "\n",
    "Dateien und Dateiformate (z.B. SVG oder BMP) sind uns bereits in der Lerneinheit [Repräsentation von Text, Bild, Ton](3_Repraesentation_von_Text_Bild_Ton.ipynb) begegnet. In dieser Lerneinheit befassen wir uns einerseits mit Grundkonzepten von Dateiformaten und lernen andererseits weitere Dateiformate kennen.\n",
    "    \n",
    "</div>\n",
    "\n",
    "Diese Lerneinheit wird vollständig in der Präsenzzeit behandelt. Nachfolgenden finden Sie die Vortragsfolien sowie die Hinweise zu den Gruppenarbeiten."
   ]
  },
  {
   "cell_type": "markdown",
   "metadata": {},
   "source": [
    "### Datei\n",
    "\n",
    "Was ist eine Datei?\n",
    "- eine Einheit in einem Dateisystem\n",
    "- Folge von Bits auf dem Massenspeicher\n",
    "- hat Name, Ort, Größe\n",
    "- ggf. weitere Attribute (je nach Dateisystem)"
   ]
  },
  {
   "cell_type": "markdown",
   "metadata": {},
   "source": [
    "### Dateiformat\n",
    "\n",
    "Was ist ein Dateiformat?\n",
    "\n",
    "Wie kann man es identifizieren?\n",
    "- Dateiendung, MIME-Typ, Magic Codes, etc.\n",
    "\n",
    "Wie können wir Dateiformate unterscheiden?\n",
    "- binär vs. \"plain text\"\n",
    "- proprietär vs. offen\n",
    "- Containerformat vs.\n",
    "- spezifisch vs. allgemein (z.B. BMP vs. JSON)\n",
    "\n",
    "(vielleicht dafür jeweils eine Folie?\n"
   ]
  },
  {
   "cell_type": "markdown",
   "metadata": {},
   "source": [
    "### Beschreibung von Dateiformaten\n",
    "\n",
    "- Wie kann ein Dateiformat beschrieben werden?\n",
    "- Was sind Begrifflichkeiten/Konzepte?\n",
    "  - https://en.wikipedia.org/wiki/Container_format_(computing)\n",
    "- Für welche Arten von Daten geeignet?\n",
    "- Welche grundlegende Struktur?"
   ]
  },
  {
   "cell_type": "markdown",
   "metadata": {},
   "source": [
    "### Beispiel: JSON\n",
    "\n",
    "- \"plain text\" / Unicode (UTF-8?!)\n",
    "- JavaScript\n",
    "- \n",
    "- \"Introspektion\" von Jupyter Notebooks"
   ]
  },
  {
   "cell_type": "markdown",
   "metadata": {},
   "source": [
    "### Best Practices\n",
    "\n",
    "https://library.stanford.edu/research/data-management-services/data-best-practices/best-practices-file-formats"
   ]
  },
  {
   "cell_type": "markdown",
   "metadata": {},
   "source": [
    "### Ausblick\n",
    "\n",
    "- SAX-Parser, XSLT in [Operationen auf Datenstrukturen](8_Operationen_auf_Datenstrukturen.ipynb)"
   ]
  },
  {
   "cell_type": "markdown",
   "metadata": {},
   "source": [
    "## Aufgaben\n",
    "\n",
    "<div class=\"alert alert-success\">\n",
    "   \n",
    "\n",
    "      \n",
    "</div>"
   ]
  },
  {
   "cell_type": "markdown",
   "metadata": {},
   "source": [
    "### Dateiformate kennenlernen I\n",
    "\n",
    "Struktur verschiedener Dateiformate selbst erarbeiten:\n",
    "- [HDF5](https://en.wikipedia.org/wiki/Hierarchical_Data_Format), [FITS](https://en.wikipedia.org/wiki/FITS), [Matroska](https://en.wikipedia.org/wiki/Matroska), [IFF](https://en.wikipedia.org/wiki/Interchange_File_Format), [PNG](https://en.wikipedia.org/wiki/Portable_Network_Graphics), [RTF](https://en.wikipedia.org/wiki/Rich_Text_Format), [DXF](https://en.wikipedia.org/wiki/AutoCAD_DXF), [MOD](https://en.wikipedia.org/wiki/MOD_(file_format)) (bzw. siehe Umfrageergebnisse!)\n",
    "- grundlegende Konzepte erkennen und beschreiben (weniger die Details)\n",
    "  - Für welche Arten von Daten geeignet?\n",
    "  - Welche grundlegende Struktur?\n",
    "  -\n",
    "- anhand eines Beispiels vorgeben\n",
    "- nicht nur Wikipedia: Original-Specs lesen!\n",
    "- intensive Gruppenarbeit in Breakout-Räumen\n",
    "  - Aufteilung Gruppenrollen vorgeben (Chef, Zeit, Doku, Präsi)\n",
    "  - ich bin als Experte im großen Raum anwesend\n",
    "- Ergebnissicherung: eine Folie! (eher: Poster – ruhig dicht)"
   ]
  },
  {
   "cell_type": "markdown",
   "metadata": {},
   "source": [
    "### Dateiformate kennenlernen II\n",
    "- Kurzpräsentation der Gruppen (jeweils 2 Minuten)"
   ]
  }
 ],
 "metadata": {
  "language_info": {
   "name": "python",
   "pygments_lexer": "ipython3"
  }
 },
 "nbformat": 4,
 "nbformat_minor": 2
}
