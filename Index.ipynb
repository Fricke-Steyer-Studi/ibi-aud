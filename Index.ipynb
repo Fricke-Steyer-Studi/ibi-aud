{
 "cells": [
  {
   "cell_type": "markdown",
   "metadata": {},
   "source": [
    "# 3.3 Einführung in Algorithmen und Datenstrukturen\n",
    "\n",
    "Herzlich willkommen im Modulkurs *3.3 Einführung in Algorithmen und Datenstrukturen* des Moduls 3 *Technologien des Datenmanagements*. \n",
    "Schön, dass Sie es bis hierhin geschafft haben! In diesem Notebook\n",
    "finden Sie allgemeine Informationen zum Aufbau des Modulkurses\n",
    "und eine Übersicht zu den einzelnen Lerneinheiten. Bitte lesen Sie\n",
    "sich diese aufmerksam durch und starten Sie dann mit der\n",
    "[Vorbereitung](0_Vorbereitung.ipynb)."
   ]
  },
  {
   "cell_type": "markdown",
   "metadata": {},
   "source": [
    "## Aufbau des Modulkurses\n",
    "\n",
    "Der Modulkurs besteht aus den folgenden neun Lerneinheiten:\n",
    "\n",
    "- [Vorbereitung](0_Vorbereitung.ipynb)\n",
    "- [Bits und Boolesche Algebra](1_Bits_und_Boolesche_Algebra.ipynb)\n",
    "- [Elementare Datentypen](2_Elementare_Datentypen.ipynb)\n",
    "- [Repräsentation von Text, Bild, Ton](3_Repraesentation_von_Text_Bild_Ton.ipynb)\n",
    "- [Abstrakte Datenstrukturen](4_Abstrakte_Datenstrukturen.ipynb)\n",
    "- [Dateiformate](5_Dateiformate.ipynb)\n",
    "- [Algorithmen](6_Algorithmen.ipynb)\n",
    "- [Komplexität](7_Komplexitaet.ipynb)\n",
    "- [Operationen auf Datenstrukturen](8_Operationen_auf_Datenstrukturen.ipynb)\n",
    "\n",
    "Für jede Lerneinheit sollten Sie ca. *acht bis zehn Stunden\n",
    "Zeitaufwand plus 45 Minuten Präsenzzeit* einplanen. Bitte beachten\n",
    "Sie: dies sind geschätzte Mittelwerte die sich von Teilnehmer:in zu\n",
    "Teilnehmer:in unterscheiden können."
   ]
  },
  {
   "cell_type": "markdown",
   "metadata": {},
   "source": [
    "## Aufbau der Lerneinheiten\n",
    "\n",
    "Jede Lerneinheit besteht aus den Abschnitten *Lernziele* und\n",
    "*Material* und enthält zwei bis drei *Aufgaben*. \n",
    "\n",
    "<div class=\"alert alert-info\">\n",
    "\n",
    "### Lernziele\n",
    "\n",
    "- Zu Beginn jeder Lerneinheit wird in Stichpunkten kurz aufgelistet,\n",
    "  was Sie jeweils erlernen können.\n",
    "    \n",
    "</div>"
   ]
  },
  {
   "cell_type": "markdown",
   "metadata": {},
   "source": [
    "### Material\n",
    "\n",
    "Hier finden Sie eine Einführung zum Themengebiet sowie weiterführendes Material. \n",
    "\n",
    "Jupyter Notebooks ermöglichen durch die Ausführung von Python-Code ein hohes Maß an Interaktivität.\n",
    "Alle Notebooks machen davon Gebrauch und enthalten mehr oder wenige große Codebeispiele. Diese sollten Sie ausführen (genaueres dazu in der [Vorbereitung](0_Vorbereitung.ipynb)) und die Ergebnisse interpretieren. Ein vollständiges Verständnis des Python-Codes ist dafür meist nicht notwendig. "
   ]
  },
  {
   "cell_type": "code",
   "execution_count": null,
   "metadata": {},
   "outputs": [],
   "source": [
    "import time\n",
    "print(\"Guten Tag! Es ist\", time.strftime(\"%H:%M\"), \"Uhr.\")"
   ]
  },
  {
   "cell_type": "markdown",
   "metadata": {},
   "source": [
    "<div class=\"alert alert-success\">\n",
    "    \n",
    "Stellen an denen mehr als nur reines Ausführen des Codes von Ihnen erwartet wird (beispielsweise Eingabe oder Veränderung von Werten) werden in der Regel farblich hervorgehoben (analog zu den Aufgaben).\n",
    "\n",
    "</div>"
   ]
  },
  {
   "cell_type": "code",
   "execution_count": null,
   "metadata": {},
   "outputs": [],
   "source": [
    "print(\"Dadaismus ist, \"*3, \"... Dada!\")"
   ]
  },
  {
   "cell_type": "markdown",
   "metadata": {},
   "source": [
    "<div class=\"alert alert-success\">\n",
    "\n",
    "Verändern Sie den Python-Code, so dass die Zeichenkette \"Dadaismus ist, \" nicht drei mal sondern vier mal ausgegeben wird.\n",
    "\n",
    "(Aus technischen Gründen sind die \"Zellen\" mit Python-Code nicht farblich hinterlegt.)\n",
    "    \n",
    "</div>"
   ]
  },
  {
   "cell_type": "markdown",
   "metadata": {},
   "source": [
    "<div class=\"alert alert-success\">\n",
    "\n",
    "#### Aufgaben\n",
    "    \n",
    "Am Ende jeder Lerneinheit finden Sie zwei bis drei Aufgaben, für die Sie in der\n",
    "Regel jeweils ca. zwei bis drei Stunden Zeitaufwand einplanen\n",
    "sollten. Die Aufgaben helfen Ihnen, sich selbständig mit dem Material\n",
    "der Lerneinheit auseinanderzusetzen. Sie setzen jeweils voraus, dass\n",
    "Sie den Abschnitt *Material* durchgearbeitet haben.\n",
    "    \n",
    "Alle Aufgaben – bis auf die Ergänzungsaufgaben – sind Kern Ihres Selbststudiums. Eine Beschäftigung mit den Aufgaben ist wesentliche Voraussetzung für Ihren Lernerfolg. Insbesondere sind die Aufgaben einer\n",
    "Lerneinheit in der Regel für das Verständnis der darauffolgenden Lerneinheiten notwendig.\n",
    "    \n",
    "Aufgaben, mit denen Sie einzelne Aspekte vertiefen können, die aber für den Studienerfolg nicht ausschlaggebend sind, sind als *Ergänzungsaufgaben* markiert.\n",
    "\n",
    "In jeder Aufgabe wird dargelegt, wie Sie Ihre Ergebnisse sichern bzw. demonstrieren sollen. In der Regel handelt es sich dabei um einen Forumspost, eine Wikiseite oder ein Video. \n",
    "    \n",
    "</div>"
   ]
  },
  {
   "cell_type": "markdown",
   "metadata": {},
   "source": [
    "## Literatur\n",
    "\n",
    "Die Literaturliste befindet sich [auf BibSonomy](https://www.bibsonomy.org/relevantfor/group/ddm/m3.1)."
   ]
  },
  {
   "cell_type": "markdown",
   "metadata": {},
   "source": [
    "<a rel=\"license\" href=\"http://creativecommons.org/licenses/by/4.0/\"><img alt=\"Creative Commons Lizenzvertrag\" style=\"border-width:0\" src=\"https://i.creativecommons.org/l/by/4.0/88x31.png\" /></a><br /><span xmlns:dct=\"http://purl.org/dc/terms/\" href=\"http://purl.org/dc/dcmitype/InteractiveResource\" property=\"dct:title\" rel=\"dct:type\">Der Modulkurs *Einführung in Algorithmen und Datenstrukturen*</span> von <a xmlns:cc=\"http://creativecommons.org/ns#\" href=\"https://scm.cms.hu-berlin.de/ibi/damostin/\" property=\"cc:attributionName\" rel=\"cc:attributionURL\">Robert Jäschke</a> ist lizenziert unter einer <a rel=\"license\" href=\"http://creativecommons.org/licenses/by/4.0/\">Creative Commons Namensnennung 4.0 International Lizenz</a>."
   ]
  }
 ],
 "metadata": {
  "language_info": {
   "name": "python",
   "pygments_lexer": "ipython3"
  }
 },
 "nbformat": 4,
 "nbformat_minor": 2
}
