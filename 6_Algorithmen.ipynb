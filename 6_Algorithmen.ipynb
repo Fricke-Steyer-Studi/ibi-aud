{
 "cells": [
  {
   "cell_type": "markdown",
   "metadata": {},
   "source": [
    "\n",
    "# Algorithmen\n",
    "\n",
    "<!-- markdown-toc start - Don't edit this section. Run M-x markdown-toc-generate-toc again -->\n",
    "Inhalt:\n",
    "\n",
    "- [Lernziele](#Lernziele)\n",
    "- [Material](#Material)\n",
    "- [Aufgaben](#Aufgaben)\n",
    "\n",
    "<!-- markdown-toc end -->\n",
    "\n",
    "\n",
    "<div class=\"alert alert-info\">\n",
    "\n",
    "## Lernziele\n",
    "\n",
    "- das Konzept des Algorithmus verstehen\n",
    "- die Konzepte Iteration und Rekursion kennen und voneinander unterscheiden können\n",
    "- einfache Algorithmen nachvollziehen können\n",
    "\n",
    "</div>\n"
   ]
  },
  {
   "cell_type": "markdown",
   "metadata": {},
   "source": [
    "## Material\n",
    "\n",
    "\n",
    "<div class=\"alert alert-warning\">\n",
    "\n",
    "In dieser Lerneinheit befassen wir uns mit der\n",
    "\n",
    "</div>\n"
   ]
  },
  {
   "cell_type": "markdown",
   "metadata": {},
   "source": [
    "\n",
    "<p style=\"text-align:center; font-weight: bold;\">Algorithms</p>\n",
    "\n",
    "<a title=\"There was a schism in 2007, when a sect advocating OpenOffice created a fork of Sunday.xlsx and maintained it independently for several months. The efforts to reconcile the conflicting schedules led to the reinvention, within the cells of the spreadsheet, of modern version control.\" href=\"https://xkcd.com/1667/\">\n",
    "  <img alt=\"XKCD Comic: Algorithms\" src=\"https://imgs.xkcd.com/comics/algorithms.png\">\n",
    "</a>\n",
    "\n",
    "© Randall Munroe / [CC-BY-NC 2.5](http://creativecommons.org/licenses/by-nc/2.5/)\n"
   ]
  },
  {
   "cell_type": "markdown",
   "metadata": {},
   "source": [
    "In dieser Lerneinheit setzen wir uns mit dem Konzept des\n",
    "[Algorithmus](https://de.wikipedia.org/wiki/Algorithmus) auseinander. Die\n",
    "nachfolgende Definition soll uns als Einstieg dienen:\n",
    "\n",
    "> Ein Algorithmus ist eine vollständige, präzise und in einer Notation\n",
    "> oder Sprache mit exakter Definition abgefasste, endliche\n",
    "> Beschreibung eines schrittweisen Problemlösungsverfahrens zur\n",
    "> Ermittlung gesuchter Datenobjekte (ihrer Werte) aus gegebenen Werten\n",
    "> von Datenobjekten, in dem jeder Schritt aus einer Anzahl\n",
    "> ausführbarer, eindeutiger Aktionen und einer Angabe über den\n",
    "> nächsten Schritt besteht.\n",
    ">\n",
    "> [Gustav Pomberger, Heinz Dobler. *Algorithmen und Datenstrukturen:\n",
    "> eine systematische Einführung in die Programmierung*. Pearson,\n",
    "> 2008.]\n"
   ]
  },
  {
   "cell_type": "markdown",
   "metadata": {},
   "source": [
    "### Literatur\n",
    "\n",
    "- Brookshear, J. G.; Brylow, D. (2015). *Computer Science: An\n",
    "  Overview*. 12. Auflage. Pearson Education. ISBN: 978-1-292-06116-0\n",
    "- Papadimitriou, C. H. (2005). *Computational complexity*. Reading,\n",
    "  Mass. [u.a.]: Addison-Wesley. ISBN: 978-0-201-53082-7\n",
    "- Arora, S.; Barak, B. (2006). *Computational Complexity: A Modern\n",
    "  Approach*. Cambridge University Press. ISBN: 978-0-521-42426-4\n",
    "  ([Entwurf als\n",
    "  PDF](https://theory.cs.princeton.edu/complexity/book.pdf))"
   ]
  },
  {
   "cell_type": "markdown",
   "metadata": {},
   "source": [
    "\n",
    "<div class=\"alert alert-success\">\n",
    "\n",
    "## Aufgaben\n",
    "    \n",
    "\n",
    "</div>\n"
   ]
  },
  {
   "cell_type": "markdown",
   "metadata": {},
   "source": [
    "\n",
    "<!--\n",
    "\n",
    "### Komplexität erfahren\n",
    "\n",
    "**Diese Aufgabe ist noch nicht fertig**\n",
    "\n",
    "*Wesentliche Aufgabe, Zeitaufwand: ca. 120 Minuten*\n",
    "\n",
    "- Python-Beispiele ausprobieren und Zeitkomplexität messen und plotten\n",
    "- eines der Beispiele kopieren und so verändern, dass es eine\n",
    "  Komplexität hat, die (deutlich) anders als die der vorhandenen\n",
    "  Beispiele ist\n",
    "- verschiedene Algorithmen/Varianten vergleichen\n",
    "\n",
    "**Abschluss:** Posten Sie Ihren Plot im Forum und erläutern Sie kurz\n",
    "  den Unterschied zwischen den beiden Varianten.\n",
    "\n",
    "-->\n"
   ]
  }
 ],
 "metadata": {
  "language_info": {
   "name": "python",
   "pygments_lexer": "ipython3"
  }
 },
 "nbformat": 4,
 "nbformat_minor": 2
}
