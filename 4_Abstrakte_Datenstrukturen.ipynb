{
 "cells": [
  {
   "cell_type": "markdown",
   "metadata": {},
   "source": [
    "\n",
    "# Abstrakte Datenstrukturen\n",
    "\n",
    "*erwarteter Zeitaufwand: ca. 5 Stunden*\n",
    "\n",
    "<!-- markdown-toc start - Don't edit this section. Run M-x markdown-toc-generate-toc again -->\n",
    "Inhalt:\n",
    "\n",
    "- [Lernziele](#Lernziele)\n",
    "- [Material](#Material)\n",
    "    - [Hintergrund: Struktur des Hauptspeichers](#Hintergrund-Struktur-des-Hauptspeichers)\n",
    "    - [Abstrakte Datenstrukturen](#Abstrakte-Datenstrukturen)\n",
    "    - [Feld](#Feld)\n",
    "    - [Verbund](#Verbund)\n",
    "    - [Liste](#Liste)\n",
    "    - [Baum](#Baum)\n",
    "    - [Graph](#Graph)\n",
    "    - [Assoziatives Feld / Dictionary](#Assoziatives-Feld--Dictionary)\n",
    "    - [Implementierung von Datenstrukturen](#Implementierung-von-Datenstrukturen)\n",
    "    - [Exkurs: Die Dateiformate XML, JSON und RDF](#Exkurs:-Die-Dateiformate-XML,-JSON-und-RDF)\n",
    "    - [Exkurs: Relationale Datenbanken](#Exkurs:-Relationale-Datenbanken)\n",
    "- [Aufgaben](#Aufgaben)\n",
    "    - [Datenstrukturen in der realen Welt](#Datenstrukturen-in-der-realen-Welt)\n",
    "    - [Implementierung von Datenstrukturen](#Implementierung-von-Datenstrukturen)\n",
    "    - [Das Prinzip des Zeigers](#Das-Prinzip-des-Zeigers)\n",
    "\n",
    "<!-- markdown-toc end -->\n",
    "\n",
    "\n",
    "<div class=\"alert alert-info\">\n",
    "\n",
    "## Lernziele\n",
    "\n",
    "- grundlegende Datenstrukturen kennen\n",
    "- wissen, welche Datenstrukturen zur Repräsentation verschiedener\n",
    "  Arten von Daten geeignet sind\n",
    "\n",
    "</div>\n"
   ]
  },
  {
   "cell_type": "markdown",
   "metadata": {},
   "source": [
    "\n",
    "## Material\n",
    "*erwarteter Zeitaufwand: ca. 2 Stunden*\n",
    "\n",
    "<div class=\"alert alert-warning\">\n",
    "\n",
    "In dieser Lerneinheit befassen wir uns mit *Datenstrukturen* und damit\n",
    "einem Kernthema des Kurses. Datenstrukturen ermöglichen uns, Daten in\n",
    "einer Form zu repräsentieren, die besser den Eigenheiten der\n",
    "jeweiligen Daten entspricht. Beispielsweise möchten wir eine\n",
    "Rastergrafik lieber als zweidimensionales Feld von Farbwerten\n",
    "auffassen, als eine Folge von Zeilen (die wiederum eine Folge von\n",
    "Farbwerten darstellen). Wir wir schon im Abschnitt [Repräsentation von\n",
    "Text, Bild, Ton](Repraesentation_von_Text_Bild_Ton.ipynb) gesehen\n",
    "haben, werden alle Daten im Rechner (sowohl im Haupt- als auch im\n",
    "Massenspeicher) letztlich als Folge von Nullen und Einsen\n",
    "gespeichert. Die Datenstrukturen, die wir uns anschauen werden, sind\n",
    "daher *abstrakt*, weil Sie im Rechner nicht physisch existieren,\n",
    "sondern eine entsprechende Interpretation der sequentiellen Binärdaten\n",
    "voraussetzen.\n",
    "\n",
    "Die Erkenntnisse aus dieser Lerneinheit ermöglichen uns, die Anordnung\n",
    "von Daten zu verstehen und geeignete Strukturen für unterschiedliche\n",
    "Arten von Daten auswählen zu können.\n",
    "\n",
    "Die Lerneinheit enthält zwei kurze Exkurse, die Anknüpfungspunkte zu\n",
    "anderen Kursen Ihres Studiums aufzeigen.\n",
    "\n",
    "</div>\n"
   ]
  },
  {
   "cell_type": "markdown",
   "metadata": {},
   "source": [
    "\n",
    "\n",
    "\n",
    "Bevor wir uns konkrete Beispiele für Datenstrukturen kennenlernen,\n",
    "betrachten wir zunächst kurz den Aufbau des Hauptspeichers eines\n",
    "typischen Computers.\n",
    "\n",
    "### Hintergrund: Struktur des Hauptspeichers\n",
    "<!--\n",
    "- stets mit realweltlichen Beispielen starten\n",
    "- Material aus IKT, evtl. gibt's Animationen/Abbildungen, die\n",
    "  unterstützen können\n",
    "-->\n",
    "\n",
    "Jegliche Informationsverarbeitung im Computer findet im\n",
    "*Hauptprozessor* und im *Hauptspeicher* statt. Vereinfacht betrachtet\n",
    "besteht der Hauptspeicher aus *Speicherzellen*, die jeweils ein Byte\n",
    "fassen und **linear angeordnet sind bzw. adressiert werden**:\n",
    "\n",
    "![schematische Darstellung der Speicherzellen im Hauptspeicher](https://amor.cms.hu-berlin.de/~jaeschkr/teaching/damostin/speicherzellen.png)\n",
    "\n",
    "Wir können jede einzelne Speicherzelle über ihre *Adresse* ansprechen\n",
    "und den darin gespeicherten Wert *lesen* bzw. mit einem anderen Wert\n",
    "*überschreiben* (speichern). Viel mehr ist im Wesentlichen nicht\n",
    "möglich.  Insbesondere können wir zwischen zwei Zellen nicht einfach\n",
    "einen Wert \"einfügen\" oder \"entfernen\" (höchstens mit einem anderen\n",
    "Wert überschreiben).\n",
    "\n",
    "Wenn wir also beispielsweise die dem Text \"Comuter\" entsprechende\n",
    "Bytefolge in den Zellen 0 bis 6 gespeichert haben und das Wort zu\n",
    "\"Computer\" ändern wollen, müssten wir entweder den Inhalt der\n",
    "Speicherzellen 0 bis 7 mit der Bytefolge für \"Computer\" überschreiben\n",
    "oder in den Zellen 3 bis 8 die Bytefolge für \"puter\" speichern.\n",
    "\n",
    "Manchmal entspricht die lineare Anordnung recht gut den Daten, die wir\n",
    "verarbeiten wollen:\n",
    "\n",
    "*Texte können wir als Folge von Zeichen auffassen*\n",
    "\n",
    "![Text in einem Buch](https://upload.wikimedia.org/wikipedia/commons/thumb/0/0a/Creatures_of_Impulse_-_book.jpg/444px-Creatures_of_Impulse_-_book.jpg)\n",
    "\n",
    "*Temperaturverläufe können wir als Folge von Messwerten auffassen*\n",
    "\n",
    "![Temperaturkurve](https://upload.wikimedia.org/wikipedia/commons/3/31/Lgm_temperature_curve_1.jpg)\n",
    "\n",
    "*Audiosignale können wir als Folge von Tönen oder Messwerten auffassen*\n",
    "\n",
    "![Audiosignal](https://upload.wikimedia.org/wikipedia/commons/4/4d/C_Envelope_follower.png)\n",
    "\n",
    "**... und manchmal auch nicht:**\n",
    "\n",
    "*Bilder sind zweidimensional*\n",
    "\n",
    "![Bild eines\n",
    "Schalters](https://upload.wikimedia.org/wikipedia/commons/thumb/e/e3/Mechanischer_Schalter_%28Schwarz%29.jpg/320px-Mechanischer_Schalter_%28Schwarz%29.jpg)\n",
    "\n",
    "*Tabellen sind zweidimensional*\n",
    "\n",
    "![Screenshot Excel](https://upload.wikimedia.org/wikipedia/commons/2/27/Excel_chart.PNG)\n",
    "\n",
    "*Bäume ...*\n",
    "\n",
    "![Tree of Life](https://upload.wikimedia.org/wikipedia/commons/thumb/e/ee/Phylogenetic_tree_scientific_names.svg/640px-Phylogenetic_tree_scientific_names.svg.png)\n",
    "\n",
    "*... und Graphen haben eine komplexe Struktur, die nicht leicht zu\n",
    "linearisieren ist*\n",
    "\n",
    "![Beispielgraph](https://upload.wikimedia.org/wikipedia/commons/thumb/b/bc/CPT-Graphs-directed-weighted-ex1.svg/263px-CPT-Graphs-directed-weighted-ex1.svg.png)\n",
    "\n",
    "### Abstrakte Datenstrukturen\n",
    "\n",
    "Um solche Daten verarbeiten zu können, müssen wir sie auf die lineare\n",
    "Struktur des Hauptspeichers *abbilden*. Wir möchten jedoch trotzdem\n",
    "mit den Daten so umgehen, wie es jeweils am besten \"passt\" und sie uns\n",
    "nicht jedesmal als Folge linear angeordneter Speicherzellen vorstellen\n",
    "müssen. Für jede Art von Datenstruktur gibt es bestimmte\n",
    "*Operationen*, die speziell für den Umgang mit ihr geeignet sind.\n",
    "\n",
    "Beispielsweise können wir in der realen Welt einen Stuhlstapel als\n",
    "eine Form von Daten- (oder eher Speicher-)Struktur auffassen:\n",
    "\n",
    "![Stuhlstapel](https://amor.cms.hu-berlin.de/~jaeschkr/teaching/damostin/stacks_of_chairs.jpg)\n",
    "\n",
    "Übliche Operationen sind beispielsweise:\n",
    "1. den obersten Stuhl entnehmen\n",
    "2. oben einen Stuhl hinzufügen\n",
    "3. die Anzahl Stühle ermitteln\n",
    "4. ...\n",
    "\n",
    "Wir können jedoch nicht so einfach einen Stuhl in der Mitte entnehmen\n",
    "oder hinzufügen (dafür müssten wir eine Folge der\n",
    "Operationen 1. und 2. durchführen und zwischendurch einen temporären\n",
    "zweiten Stuhlstapel erstellen).\n",
    "\n",
    "Ein Stuhlstapel ist eine konkrete Instanz des *abstrakten Konzepts*\n",
    "eines *Stapels*. Es gibt in der realen Welt weitere Arten von Stapeln\n",
    "(Bücherstapel, Paketstapel, etc.) die alle die gleichen Operationen\n",
    "unterstützen. \n",
    "\n",
    "Analog dazu befassen wir uns mit *abstrakten Datenstrukturen*, wie\n",
    "z.B. Feldern, Listen und Bäumen, die jeweils eigene Operationen\n",
    "unterstützen und für verschiedene Zwecke *instantiiert* werden\n",
    "können. Beispielsweise können wir ein zweidimensionales Feld zum\n",
    "Speichern der Werte einer Tabelle nutzen oder damit ein Bild\n",
    "repräsentieren. \n",
    "\n",
    "Ein wichtiges Unterscheidungsmerkmal von Datenstrukturen ist ihr\n",
    "zeitliches Verhalten: Die Struktur (!) *statischer* Datenstrukturen\n",
    "kann im Gegensatz zu *dynamischen* Datenstrukturen nicht verändert\n",
    "werden (wohl aber ihr Inhalt).\n",
    "\n",
    "\n",
    "<div class=\"row\" style=\"margin-top: 1em\">\n",
    "  <div class=\"col-xs-12 col-sm-6\" style=\"padding-right:1em;\">\n",
    "    <a title=\"Yoshimasa Niwa from Tokyo, Japan / CC BY (https://creativecommons.org/licenses/by/2.0)\" href=\"https://commons.wikimedia.org/wiki/File:Many_buttons_(4187599550).jpg\"><img width=\"180\" alt=\"Many buttons (4187599550)\" src=\"https://upload.wikimedia.org/wikipedia/commons/thumb/2/2d/Many_buttons_%284187599550%29.jpg/180px-Many_buttons_%284187599550%29.jpg\"></a>\n",
    "\n",
    "Beispielsweise stellt in einem Aufzug die Tafel mit den Knöpfen zur\n",
    "Wahl der Etage eine *statische* Datenstruktur dar: die Anordnung der\n",
    "Knöpfe (und Etagen) lässt sich nicht verändern. Der \"Inhalt\" jedoch\n",
    "schon: die Knöpfe der gewählten Etagen leuchten bei diesem Aufzug. \n",
    "\n",
    "  </div>\n",
    "  <div class=\"col-xs-12 col-sm-6\" style=\"padding-left:1em;\">\n",
    "    <img style=\"height:240px\" title=\"Stuhlstapel\" alt=\"Stuhlstapel\" src=\"https://amor.cms.hu-berlin.de/~jaeschkr/teaching/damostin/stacks_of_chairs.jpg\">\n",
    "\n",
    "Dagegen stellt ein Stuhlstapel eine *dynamische* Datenstruktur dar,\n",
    "denn die Struktur (Größe) des Stapels ist variabel: durch Hinzufügen\n",
    "und Entfernen von Stühlen können wir ihn verändern.\n",
    "\n",
    "</div>\n",
    "</div>\n",
    "\n",
    "Durch die lineare Organisation des Hauptspeichers ist die\n",
    "Implementierung abstrakter Datenstrukturen oft nicht trivial. Sie\n",
    "müssen auf gewisse Weise \"simuliert\" werden. Wie das funktioniert,\n",
    "schauen wir uns kurz im Abschnitt [Implementierung von\n",
    "Datenstrukturen](#Implementierung-von-Datenstrukturen) an. Zunächst\n",
    "betrachten wir jedoch einige der üblichsten abstrakten\n",
    "Datenstrukturen.\n",
    "\n",
    "\n",
    "### Feld\n",
    "\n",
    "Im Abschnitt [Elementare Datentypen](Elementare_Datentypen.ipynb)\n",
    "haben wir uns schon mit einfachen Datentypen wie Ganzzahl oder\n",
    "Gleitkommazahl befasst. Wenn wir mehrere Werte vom gleichen Typ (und\n",
    "fester Anzahl) verarbeiten wollen – beispielsweise die Ergebnisse\n",
    "einer Umfrage, ist ein *Feld* oft das Mittel der Wahl.\n",
    "\n",
    "Ein Feld (\"array\") ist ein \"rechteckiger\" Block von Daten, so dass\n",
    "alle Elemente vom gleichen Datentyp sind (z.B. eine Gleitkommazahl\n",
    "oder ein Zeichen). Ein *eindimensionales* Feld kann als \"Zeile\" von\n",
    "Elementen aufgefasst werden:\n"
   ]
  },
  {
   "cell_type": "code",
   "execution_count": null,
   "metadata": {},
   "outputs": [],
   "source": [
    "import numpy as np\n",
    "\n",
    "a = np.array([3.1415926, 2.7182818, 1.6180339, 1.4142135])\n",
    "\n",
    "print(a)"
   ]
  },
  {
   "cell_type": "markdown",
   "metadata": {},
   "source": [
    "\n",
    "*(In Python werden Felder am besten mit der\n",
    "[NumPy](https://numpy.org/)-Bibliothek unterstützt.)*\n",
    "\n",
    "Jedes Element eines Feldes wird durch den *Index* identifiziert, eine\n",
    "ganze Zahl, die die Position innerhalb des Feldes angibt und\n",
    "typischerweise ab Null gezählt wird:\n"
   ]
  },
  {
   "cell_type": "code",
   "execution_count": null,
   "metadata": {},
   "outputs": [],
   "source": [
    "a[2] # der dritte (!) Wert des Feldes a"
   ]
  },
  {
   "cell_type": "markdown",
   "metadata": {},
   "source": [
    "\n",
    "*(In Python und vielen anderen Programmiersprachen [hat das erste\n",
    "Element den Index\n",
    "0](https://en.wikipedia.org/wiki/Zero-based_numbering)!)*\n",
    "\n",
    "*Zweidimensionale* Felder bestehen aus *Zeilen* und *Spalten*,\n"
   ]
  },
  {
   "cell_type": "code",
   "execution_count": null,
   "metadata": {},
   "outputs": [],
   "source": [
    "b = np.array([[2, 3, 5], [7, 11, 13]])\n",
    "print(b)"
   ]
  },
  {
   "cell_type": "markdown",
   "metadata": {},
   "source": [
    "\n",
    "so dass jedes Element des Feldes durch ein *Paar von Indizes*\n",
    "identifiziert wird:\n"
   ]
  },
  {
   "cell_type": "code",
   "execution_count": null,
   "metadata": {},
   "outputs": [],
   "source": [
    "print(b[1, 2]) # zweite Zeile, dritte Spalte"
   ]
  },
  {
   "cell_type": "markdown",
   "metadata": {},
   "source": [
    "\n",
    "Ein zweidimensionales Feld könnten wir beispielsweise nutzen, um die\n",
    "monatlichen Ausleihzahlen verschiedener Zweigbibliotheken zu\n",
    "verarbeiten:\n"
   ]
  },
  {
   "cell_type": "code",
   "execution_count": null,
   "metadata": {},
   "outputs": [],
   "source": [
    "ausleihen = np.array([\n",
    "    [1097, 1575, 1349, 1918, 1463, 1746, 1232, 1526, 1559, 1908, 1020, 1823],\n",
    "    [1269, 2338, 2429, 2192, 1657, 1736, 1523, 2187, 1835, 1666, 2361, 2023],\n",
    "    [ 964,  979, 1451, 1055, 1370, 1057, 1319, 1351,  853, 1358, 1492,  849]\n",
    "])\n",
    "print(ausleihen)"
   ]
  },
  {
   "cell_type": "markdown",
   "metadata": {},
   "source": [
    "\n",
    "Die Zeilen entsprächen den (drei) Zweigbibliotheken, die Spalten den\n",
    "(zwölf) Monaten. Das Element `ausleihen[1, 4]` enthält die Anzahl der\n",
    "Ausleihen (1657) in der zweiten Zweigbibliothek im Monat Mai:\n"
   ]
  },
  {
   "cell_type": "code",
   "execution_count": null,
   "metadata": {},
   "outputs": [],
   "source": [
    "ausleihen[1, 4]"
   ]
  },
  {
   "cell_type": "markdown",
   "metadata": {},
   "source": [
    "\n",
    "NumPy bietet Funktionen, um beispielsweise die *Summe* über die Zeilen\n",
    "(monatliche Ausleihen über alle Zweigbibliotheken)\n"
   ]
  },
  {
   "cell_type": "code",
   "execution_count": null,
   "metadata": {},
   "outputs": [],
   "source": [
    "np.sum(ausleihen, 0) # 0 = 1. Dimension (Zeilen) aufsummieren"
   ]
  },
  {
   "cell_type": "markdown",
   "metadata": {},
   "source": [
    "\n",
    "oder den *Mittelwert* über alle Spalten (mittlere monatliche\n",
    "Ausleihzahlen für jede Zweigbibliothek) zu berechnen:\n"
   ]
  },
  {
   "cell_type": "code",
   "execution_count": null,
   "metadata": {},
   "outputs": [],
   "source": [
    "np.mean(ausleihen, 1) # 1 = über 2. Dimension (Spalten) Mittelwert bilden"
   ]
  },
  {
   "cell_type": "markdown",
   "metadata": {},
   "source": [
    "\n",
    "**Welche Operationen wären für Felder wünschenswert?** Neben\n",
    "mathematischen Operationen gibt es grundlegende(re) Operationen, die\n",
    "wir beispielsweise in der Hilfe des Python-eigenen Datentyps `array`\n",
    "finden:\n"
   ]
  },
  {
   "cell_type": "code",
   "execution_count": null,
   "metadata": {},
   "outputs": [],
   "source": [
    "import array\n",
    "help(array)"
   ]
  },
  {
   "cell_type": "markdown",
   "metadata": {},
   "source": [
    "\n",
    "<div class=\"alert alert-success\">\n",
    "\n",
    "Lesen Sie in der Hilfe die Beschreibung der Funktionen `append`,\n",
    "`count`, `extend`, `index` und `reverse` durch. Sie können dafür auch\n",
    "die [Online-Hilfe](https://docs.python.org/3/library/array.html)\n",
    "verwenden. Welche Funktionen hätten Sie noch erwartet bzw. fänden Sie\n",
    "wünschenswert?\n",
    "\n",
    "</div>\n",
    "\n"
   ]
  },
  {
   "cell_type": "markdown",
   "metadata": {},
   "source": [
    "\n",
    "<p style=\"text-align:center; font-weight: bold;\">Donald Knuth</p>\n",
    "\n",
    "<a title=\"His books were kinda intimidating; rappelling down through his skylight seemed like the best option.\" href=\"https://xkcd.com/163/\">\n",
    "  <img alt=\"XKCD Comic: Donald Knuth\" src=\"https://imgs.xkcd.com/comics/donald_knuth.png\">\n",
    "</a>\n",
    "\n",
    "© Randall Munroe / [CC-BY-NC 2.5](http://creativecommons.org/licenses/by-nc/2.5/)\n"
   ]
  },
  {
   "cell_type": "markdown",
   "metadata": {},
   "source": [
    "\n",
    "### Verbund\n",
    "\n",
    "Oft wollen wir komplexer strukturierte Daten verarbeiten, in denen\n",
    "jeder Datensatz aus mehreren Elementen mit ggf. unterschiedlichen\n",
    "Typen besteht, beispielsweise Personaldaten oder Mediendaten.\n",
    "\n",
    "Ein *Verbund* (\"aggregate type\", \"record\", \"struct\") stellt einen\n",
    "Block von Daten dar, die unterschiedliche Typen und Größen haben\n",
    "können:\n",
    "\n",
    "```Python\n",
    "person.name    = \"Elise Mayer\"\n",
    "person.adresse = Adresse(\"Dorfstraße\", 12, \"01234\", \"Meindorf\") \n",
    "person.tarif   = 13\n",
    "```\n",
    "\n",
    "Der Verbund in diesem Beispiel besteht aus drei *Feldern*, die jeweils\n",
    "unterschiedliche Datentypen haben: `name` ist eine Zeichenkette,\n",
    "`adresse` ist selbst ein Verbund namens `Adresse` und `tarif` ist eine\n",
    "ganze Zahl. Auf die Felder eines Verbundes wird mit dem jeweiligen\n",
    "*Feldnamen* zugegriffen: mit `person.name` können wir auf das Feld\n",
    "`name` zugreifen. \n",
    "\n",
    "Python bietet mit seiner Unterstützung für objektorientiertes\n",
    "Programmieren *Klassen* und *Objekte* (Instanzen von Klassen) an, die\n",
    "eine ähnliche Funktionalität bereitstellen. Beispielsweise könnte eine\n",
    "Klasse `Personal` für das Objekt `person` im obigen Beispiel\n",
    "folgendermaßen definiert werden:\n"
   ]
  },
  {
   "cell_type": "code",
   "execution_count": null,
   "metadata": {},
   "outputs": [],
   "source": [
    "class Personal:\n",
    "    def __init__(self, name, adresse, tarif):\n",
    "        self.name = name\n",
    "        self.adresse = adresse\n",
    "        self.tarif = tarif"
   ]
  },
  {
   "cell_type": "markdown",
   "metadata": {},
   "source": [
    "\n",
    "Und die verwendete Klasse `Adresse` für das Feld `adresse`\n",
    "dementsprechend so:\n"
   ]
  },
  {
   "cell_type": "code",
   "execution_count": null,
   "metadata": {},
   "outputs": [],
   "source": [
    "class Adresse:\n",
    "    def __init__(self, strasse, hausnummer, plz, ort):\n",
    "        self.strasse = strasse\n",
    "        self.hausnummer = hausnummer\n",
    "        self.plz = plz\n",
    "        self.ort = ort   "
   ]
  },
  {
   "cell_type": "markdown",
   "metadata": {},
   "source": [
    "\n",
    "Damit können wir jetzt eine Variable (ein *Objekt*) vom Typ `Personal`\n",
    "erzeugen:"
   ]
  },
  {
   "cell_type": "code",
   "execution_count": null,
   "metadata": {},
   "outputs": [],
   "source": [
    "person = Personal(\"Elise Mayer\", Adresse(\"Dorfstraße\", 12, \"01234\", \"Meindorf\"), 13)"
   ]
  },
  {
   "cell_type": "markdown",
   "metadata": {},
   "source": [
    "und auf ein einzelnes Element lesend"
   ]
  },
  {
   "cell_type": "code",
   "execution_count": null,
   "metadata": {},
   "outputs": [],
   "source": [
    "person.name"
   ]
  },
  {
   "cell_type": "markdown",
   "metadata": {},
   "source": [
    "\n",
    "oder verändernd\n"
   ]
  },
  {
   "cell_type": "code",
   "execution_count": null,
   "metadata": {},
   "outputs": [],
   "source": [
    "person.tarif = 14"
   ]
  },
  {
   "cell_type": "markdown",
   "metadata": {},
   "source": [
    "zugreifen.\n",
    "\n",
    "<div class=\"alert alert-success\">\n",
    "\n",
    "Erstellen Sie eine Klasse, um wesentliche Metadaten eines Buches zu\n",
    "repräsentieren. Erstellen Sie dann für ein Beispielbuch ein Objekt\n",
    "Ihrer Klasse. **Welche Operationen wären für Ihre Klasse\n",
    "wünschenswert?**\n",
    "\n",
    "</div>\n"
   ]
  },
  {
   "cell_type": "markdown",
   "metadata": {},
   "source": [
    "\n",
    "### Liste\n",
    "Listen repräsentieren eine Sammlung von sequentiell angeordneten\n",
    "Einträgen und sind damit sehr universell: \n",
    "- eine Zeichenkette können wir als Liste von Zeichen interpretieren\n",
    "- ein zweidimensionales Feld können wir auch als Liste von Zeilen\n",
    "  interpretieren\n",
    "- eine Melodie können wir als Liste von Tonhöhen interpretieren\n",
    "\n",
    "Auf den ersten Blick ähneln sie damit eindimensionalen Feldern, aber\n",
    "während jedes Element eines Feldes typischerweise den Wert eines\n",
    "grundlegenden Datentyps (eine Zahl, ein Zeichen) enthält, kann ein\n",
    "Listenelement selbst komplexere Daten enthalten. Beispielsweise könnte\n",
    "ein Stimmzettel bei einer Wahl als Liste von Kandidat:innen aufgefasst\n",
    "werden, wobei die Daten der Kandidat:innen jeweils als Verbund\n",
    "(bestehend aus den Feldern Name, Vorname, Partei, Beruf, Adresse)\n",
    "dargestellt werden könnten.\n",
    "\n",
    "![Stimmzettel](https://upload.wikimedia.org/wikipedia/commons/thumb/7/7e/Bundestagswahl_05_stimmzett.jpg/315px-Bundestagswahl_05_stimmzett.jpg)\n",
    "\n",
    "\n",
    "Im Unterschied zu Feldern sind Listen zudem *dynamische*\n",
    "Datenstrukturen, können also verändert werden. \n",
    "\n",
    "In Python spielen Listen eine wichtige Rolle und können sehr einfach\n",
    "angelegt werden:\n"
   ]
  },
  {
   "cell_type": "code",
   "execution_count": null,
   "metadata": {},
   "outputs": [],
   "source": [
    "neffen = [\"Tick\", \"Trick\", \"Track\"]"
   ]
  },
  {
   "cell_type": "markdown",
   "metadata": {},
   "source": [
    "\n",
    "Wir zählen die Elemente der Liste einfach in eckigen Klammern auf und\n",
    "können auf einzelne Elemente wie bei einem Feld zugreifen:\n"
   ]
  },
  {
   "cell_type": "code",
   "execution_count": null,
   "metadata": {},
   "outputs": [],
   "source": [
    "neffen[1]"
   ]
  },
  {
   "cell_type": "markdown",
   "metadata": {},
   "source": [
    "Listen können auch Elemente unterschiedlichen Typs:"
   ]
  },
  {
   "cell_type": "code",
   "execution_count": null,
   "metadata": {},
   "outputs": [],
   "source": [
    "palindrome = [\"lagerregal\", 4554, \"anna\", 54321.12345]"
   ]
  },
  {
   "cell_type": "markdown",
   "metadata": {},
   "source": [
    "und sogar weitere Listen enthalten:"
   ]
  },
  {
   "cell_type": "code",
   "execution_count": null,
   "metadata": {},
   "outputs": [],
   "source": [
    "[palindrome, neffen, Adresse(\"Dorotheenstraße\", 26, \"10117\", \"Berlin\")]"
   ]
  },
  {
   "cell_type": "markdown",
   "metadata": {},
   "source": [
    "Mit `append` können wir ein Element am Ende einer Liste hinzufügen:"
   ]
  },
  {
   "cell_type": "code",
   "execution_count": null,
   "metadata": {},
   "outputs": [],
   "source": [
    "palindrome.append(\"rentner\")\n",
    "superliste"
   ]
  },
  {
   "cell_type": "markdown",
   "metadata": {},
   "source": [
    "\n",
    "**Welche weiteren Operationen wären für Listen wünschenswert?**\n"
   ]
  },
  {
   "cell_type": "code",
   "execution_count": null,
   "metadata": {},
   "outputs": [],
   "source": [
    "help(list)"
   ]
  },
  {
   "cell_type": "markdown",
   "metadata": {},
   "source": [
    "\n",
    "\n",
    "<div class=\"alert alert-success\">\n",
    "\n",
    "Lesen Sie in der Hilfe die Beschreibung der Funktionen `append`,\n",
    "`clear`, `count`, `extend`, `index`, `insert`, `pop`, `remove`,\n",
    "`reverse` und `sort` durch. Sie können dafür auch die\n",
    "[Online-Hilfe](https://docs.python.org/3/library/stdtypes.html#lists)\n",
    "verwenden. Welche Funktionen hätten Sie noch erwartet bzw. fänden Sie\n",
    "wünschenswert?\n",
    "\n",
    "</div>\n"
   ]
  },
  {
   "cell_type": "markdown",
   "metadata": {},
   "source": [
    "\n",
    "Durch die Einschränkung der Art und Weise, wie auf Elemente einer\n",
    "Liste zugegriffen werden kann, erhalten wir zwei Spezialfälle:\n",
    "\n",
    "#### Spezielle Listen I: Stapel\n",
    "\n",
    "Wenn das Einfügen und Entfernen von Elementen nur am Listenanfang\n",
    "(\"Kopf\", \"head\") möglich ist, nennt man die Liste auch *Stapel* (oder\n",
    "\"Keller\", im Englischen \"Stack\"). Der Stuhlstapel oder der\n",
    "Bücherstapel sind entsprechende Beispiele aus der realen Welt, bei\n",
    "denen keine anderen Operationen praktikabel sind. Das Einfügen wird im\n",
    "Deutschen manchmal als \"einkellern\" (Englisch \"push\") und das\n",
    "Entfernen als \"auskellern\" (Englisch: \"pop\") bezeichnet. Dabei wird\n",
    "das *zuletzt* eingefügte Element stets *zuerst* entfernt, man spricht\n",
    "daher auch von einem **LIFO** (\"last-in, first-out\"). \n",
    "\n",
    "![Operationen auf einem Stapel](https://upload.wikimedia.org/wikipedia/commons/thumb/2/29/Data_stack.svg/391px-Data_stack.svg.png)\n",
    "\n",
    "Stapel sind ideal zur Speicherung von Daten geeignet, die in\n",
    "umgekehrter Reihenfolge abgerufen werden sollen. Daher spielen sie in\n",
    "der Informatik beispielsweise bei der Verarbeitung von\n",
    "Klammerstrukturen oder der Ausführung von Unterprogrammen (Funktionen)\n",
    "eine wichtige Rolle.\n",
    "\n",
    "In Python gibt es keine spezielle Implementierung eines Stapels. Durch\n",
    "Einschränkung der Operationen auf `append` für das Einkellern und\n",
    "`pop` für das Auskellern kann eine Liste als Stapel verwendet werden:\n"
   ]
  },
  {
   "cell_type": "code",
   "execution_count": null,
   "metadata": {},
   "outputs": [],
   "source": [
    "stapel = []\n",
    "stapel.append(\"Schrauben 1-4\")\n",
    "stapel.append(\"Gehäuse\")\n",
    "stapel.append(\"Batterie\")\n",
    "print(stapel) # Ausgabe: ['Schrauben 1-4', 'Gehäuse', 'Batterie']\n",
    "stapel.pop()\n",
    "print(stapel) # Ausgabe: ['Schrauben 1-4', 'Gehäuse']"
   ]
  },
  {
   "cell_type": "markdown",
   "metadata": {},
   "source": [
    "\n",
    "#### Spezielle Listen II: Warteschlange\n",
    "\n",
    "Das Gegenstück zum Stapel ist die *Warteschlange* (\"queue\"): das\n",
    "Einfügen (\"enqueue\") von Elementen ist nur am Listenende (\"tail\" oder \"back\") und\n",
    "das Entfernen (\"dequeue\") nur am Listenanfang (\"head\" oder \"front\") möglich. Ein Beispiel\n",
    "aus der realen Welt ist die Warteschlange an der Theaterkasse, bei der\n",
    "man sich am Ende anstellen sollte und die jeweils aktuelle Person am\n",
    "Anfang bedient wird und dann die Schlange verlässt. Da das *zuerst*\n",
    "eingefügte Element stets *zuerst* entfernt wird, spricht man auch von\n",
    "einem **FIFO** (\"first-in, first-out\").\n",
    "\n",
    "<!-- \n",
    "![Operationen auf einer Warteschlange](https://upload.wikimedia.org/wikipedia/commons/d/d3/Fifo_queue.png)\n",
    "\n",
    "-->\n",
    "\n",
    "![Operationen auf einer Warteschlange](https://upload.wikimedia.org/wikipedia/commons/a/a8/Queue_%28Computer_Science%29.svg)\n",
    "\n",
    "Die Elemente werden also in der Reihenfolge abgerufen, in der sie auch\n",
    "gespeichert wurden. Warteschlangen werden beispielsweise in der [Job\n",
    "Queue](https://en.wikipedia.org/wiki/Job_queue) eines Betriebssystems\n",
    "verwendet oder als\n",
    "[Puffer](https://de.wikipedia.org/wiki/Puffer_(Informatik)) in der\n",
    "Datenübertragung.\n",
    "\n",
    "In Python gibt es ebenfalls keine Implementierung einer Warteschlange,\n",
    "wir können aber leicht selbst eine Klasse `Queue` erstellen und\n",
    "verwenden:\n"
   ]
  },
  {
   "cell_type": "code",
   "execution_count": null,
   "metadata": {},
   "outputs": [],
   "source": [
    "class Queue:\n",
    "    def __init__(self):\n",
    "        self.items = []\n",
    "    def enqueue(self, item):\n",
    "        self.items.insert(0, item)\n",
    "    def dequeue(self):\n",
    "        return self.items.pop()\n",
    "\n",
    "warteschlange = Queue()\n",
    "warteschlange.enqueue(\"Esel\")\n",
    "warteschlange.enqueue(\"Hund\")\n",
    "warteschlange.enqueue(\"Katze\")\n",
    "warteschlange.dequeue()\n",
    "warteschlange.enqueue(\"Hahn\")\n",
    "warteschlange.items # Ausgabe: ['Hahn', 'Katze', 'Hund']"
   ]
  },
  {
   "cell_type": "markdown",
   "metadata": {},
   "source": [
    "\n",
    "<p style=\"text-align:center; font-weight: bold;\">2018 CVE List</p>\n",
    "\n",
    "<a href=\"https://xkcd.com/1957/\" title=\"CVE-2018-?????: It turns out Bruce Schneier is just two mischevious kids in a trenchcoat.\">\n",
    "  <img alt=\"XKCD Comic: 2018 CVE List\" src=\"https://imgs.xkcd.com/comics/2018_cve_list.png\">\n",
    "</a>\n",
    "\n",
    "© Randall Munroe / [CC-BY-NC 2.5](http://creativecommons.org/licenses/by-nc/2.5/)\n",
    "\n"
   ]
  },
  {
   "cell_type": "markdown",
   "metadata": {},
   "source": [
    "\n",
    "### Baum\n",
    "\n",
    "Ein Baum ist eine hierarchische Struktur aus *Knoten* (\"nodes\") und\n",
    "*Kanten* (\"edges\"). Jeder Knoten außer dem *Wurzelknoten* (\"Wurzel\",\n",
    "\"root\") hat genau einen *Vorgänger*. Knoten ohne Nachfolger heißen\n",
    "*Blätter*. Beispielsweise werden Organigramme typischerweise in Form\n",
    "eines Baumes dargestellt, mit der Direktorin oder der Firma an der\n",
    "Spitze (der Wurzel):\n",
    "\n",
    "<a title=\"Tabulating Machine Co., December 1917; Picture by Marcin Wichary / CC BY (https://creativecommons.org/licenses/by/2.5)\" href=\"https://commons.wikimedia.org/wiki/File:Tabulating_Machine_Co_Organization_Chart.jpg\"><img width=\"512\" alt=\"Tabulating Machine Co Organization Chart\" src=\"https://upload.wikimedia.org/wikipedia/commons/thumb/8/88/Tabulating_Machine_Co_Organization_Chart.jpg/512px-Tabulating_Machine_Co_Organization_Chart.jpg\"></a>\n",
    "\n",
    "Bäume sind sehr wichtige abstrakte Datenstrukturen und werden überall\n",
    "verwendet, wo eine hierarchische Anordnung der Daten gewünscht ist.\n",
    "Beispielsweise beim [Domain Name\n",
    "System](https://de.wikipedia.org/wiki/Domain_Name_System), bei\n",
    "[Dateisystemen](https://de.wikipedia.org/wiki/Dateisystem), beim\n",
    "[Parsen von (formalen)\n",
    "Sprachen](https://de.wikipedia.org/wiki/Syntaxbaum) oder bei der\n",
    "[Indexierung von Daten](https://en.wikipedia.org/wiki/Search_tree).\n",
    "\n",
    "\n",
    "Für Python gibt es verschiedene Baum-Implementierungen, beispielsweise\n",
    "[anytree](https://pypi.python.org/pypi/anytree) oder als Teil von\n",
    "[NetworkX](https://networkx.github.io/documentation/stable/reference/algorithms/tree.html).\n",
    "Falls Sie die passenden Bibliotheken und Programme installiert haben,\n",
    "zeichnet der folgende Code einen kleinen Baum:\n"
   ]
  },
  {
   "cell_type": "code",
   "execution_count": null,
   "metadata": {},
   "outputs": [],
   "source": [
    "import networkx as nx\n",
    "from networkx.drawing.nx_agraph import graphviz_layout\n",
    "import matplotlib.pyplot as plt\n",
    "G = nx.DiGraph()\n",
    "\n",
    "G.add_node(\"Wurzel\")\n",
    "\n",
    "for i in range(3):\n",
    "    G.add_node(\"Kind_%i\" % i)\n",
    "    G.add_node(\"Kindeskind_%i\" % i)\n",
    "\n",
    "    G.add_edge(\"Wurzel\", \"Kind_%i\" % i)\n",
    "    G.add_edge(\"Kind_%i\" % i, \"Kindeskind_%i\" % i)\n",
    "\n",
    "pos = graphviz_layout(G, prog='dot')\n",
    "nx.draw(G, pos, with_labels=True, arrows=False)"
   ]
  },
  {
   "cell_type": "markdown",
   "metadata": {},
   "source": [
    "\n",
    "**Welche Operationen wären für Bäume wünschenswert?** Neben dem\n",
    "*Hinzufügen* und *Entfernen* von Knoten und Kanten sind Operationen\n",
    "zum *Traversieren* (Durchlaufen) von und *Suchen* in Bäumen\n",
    "interessant sowie zum Berechnen verschiedener Eigenschaften\n",
    "(z.B. *Breite* und *Tiefe* des Baumes). Einige davon werden wir in der\n",
    "nächsten Lerneinheit [Operationen auf\n",
    "Datenstrukturen](Operationen_auf_Datenstrukturen.ipynb) kennenlernen.\n",
    "\n"
   ]
  },
  {
   "cell_type": "markdown",
   "metadata": {},
   "source": [
    "\n",
    "<p style=\"text-align:center; font-weight: bold;\">Tree</p>\n",
    "\n",
    "<a href=\"https://xkcd.com/835/\" title=\"Not only is that terrible in general, but you just KNOW Billy's going to open the root present first, and then everyone will have to wait while the heap is rebuilt.\">\n",
    "  <img alt=\"XKCD Comic: Tree\" src=\"https://imgs.xkcd.com/comics/tree.png\">\n",
    "</a>\n",
    "\n",
    "© Randall Munroe / [CC-BY-NC 2.5](http://creativecommons.org/licenses/by-nc/2.5/)\n"
   ]
  },
  {
   "cell_type": "markdown",
   "metadata": {},
   "source": [
    "\n",
    "### Graph\n",
    "\n",
    "Bäume sind spezielle *Graphen*: bei Graphen dürfen Knoten beliebig\n",
    "miteinander verknüpft werden.\n",
    "\n",
    "Beispiele für Graphen, die *keine* Bäume sind: \n",
    "\n",
    "<div class=\"row\" style=\"margin-top: 1em\">\n",
    "  <div class=\"col-xs-12 col-sm-6\" style=\"padding-right:1em;\">\n",
    "\n",
    "![kein\n",
    "Baum](https://upload.wikimedia.org/wikipedia/commons/thumb/1/1c/Directed_graph%2C_cyclic.svg/320px-Directed_graph%2C_cyclic.svg.png)\n",
    "\n",
    "Dies ist kein Baum, denn es gibt einen Zyklus von B nach C nach D nach\n",
    "E und wieder B (B hat zwei Vorgänger).\n",
    "\n",
    "  </div>\n",
    "  <div class=\"col-xs-12 col-sm-6\" style=\"padding-left:1em;\">\n",
    "\n",
    "![kein\n",
    "Baum](https://upload.wikimedia.org/wikipedia/commons/thumb/a/a3/Directed_graph_with_branching_SVG.svg/184px-Directed_graph_with_branching_SVG.svg.png)\n",
    "\n",
    "Dies ist ebenfalls kein Baum, denn der Knoten 4 hat ebenfalls zwei\n",
    "Vorgänger.\n",
    "\n",
    "</div>\n",
    "</div>\n",
    "\n",
    "Viele Arten von Daten und Problemen lassen sich mittels Graphen\n",
    "darstellen bzw. lösen, beispielsweise:\n",
    "- das [Internet](https://en.wikipedia.org/wiki/Internet) mit den\n",
    "  Rechnern als Knoten und den Verbindungen zwischen ihnen als Kanten,\n",
    "- das [World Wide Web](https://en.wikipedia.org/wiki/World_Wide_Web)\n",
    "  mit den Webseiten als Knoten und den Hyperlinks als Kanten,\n",
    "- [Verkehrsnetze](https://en.wikipedia.org/wiki/Transport_network) mit\n",
    "  Orten, Kreuzungen und Umsteigepunkten als Knoten und den\n",
    "  Verkehrswegen als Kanten oder\n",
    "- das\n",
    "  [Entity-Relationship-Model](https://en.wikipedia.org/wiki/Entity%E2%80%93relationship_model)\n",
    "  mit den Entitäten als Knoten und den Beziehungen als Kanten.\n",
    "\n",
    "![ER-Modell einer Universität](https://amor.cms.hu-berlin.de/~jaeschkr/teaching/damostin/er.png)\n",
    "\n",
    "\n",
    "In Python ist [NetworkX](https://networkx.github.io/) eine sehr\n",
    "umfangreiche und mächtige Bibliothek zum Umgang mit Graphen.\n",
    "\n",
    "\n",
    "**Welche Operationen wären für Bäume wünschenswert?** Neben den\n",
    "Operationen, die für Bäume genannt wurden, spielen Verfahren zum\n",
    "Berechnen *kürzester Wege* oder *zentraler Knoten* sowie zum\n",
    "*Clustern* eine wichtige Rolle.\n",
    "\n",
    "### Assoziatives Feld / Dictionary\n",
    "\n",
    "Wenn wir beispielsweise für eine unbekannte Menge von Wörtern die\n",
    "Auftretens-Häufigkeiten zählen wollen, so benötigen wir dafür eine\n",
    "geeignete Datenstruktur. Diese sollte uns ermöglichen, für jedes\n",
    "gerade verarbeitete Wort die Häufigkeit um eins zu erhöhen. Wir\n",
    "benötigen also die Möglichkeit, einem beliebigen *Schlüssel* (hier:\n",
    "einem Wort) einen beliebigen *Wert* (hier: die Häufigkeit)\n",
    "zuzuweisen. Die bisher behandelten Datenstrukturen sind dafür nicht\n",
    "geeignet. Eine speziell dafür entwickelte Datenstruktur sind\n",
    "*assoziative Felder* (\"associative array\", \"dictionaries\" oder\n",
    "\"maps\").\n",
    "\n",
    "Assoziative Felder werden beispielsweise zur\n",
    "[Datenrepräsentation](https://en.wikipedia.org/wiki/JSON), zur\n",
    "[Indexierung in\n",
    "Datenbanken](https://en.wikipedia.org/wiki/Index_(database)) oder zur\n",
    "[Beschleunigung von Berechnungen mit Hilfe von Zwischenspeichern\n",
    "(Caches)](https://en.wikipedia.org/wiki/Cache_(computing)) verwendet.\n",
    "\n",
    "In Python können wir mit Hilfe der geschweiften Klammern ein\n",
    "assoziatives Feld (\"dict\" genannt) anlegen und mit\n",
    "Schlüssel-Wert-Paaren befüllen:\n"
   ]
  },
  {
   "cell_type": "code",
   "execution_count": null,
   "metadata": {},
   "outputs": [],
   "source": [
    "geburtstage = {\n",
    "    \"Ada\"    : \"10.12.1815\",\n",
    "    \"Bertha\" : \"09.06.1843\",\n",
    "    \"Clara\"  : \"05.06.1857\",\n",
    "    \"Donald\" : \"10.01.1938\"\n",
    "}"
   ]
  },
  {
   "cell_type": "markdown",
   "metadata": {},
   "source": [
    "\n",
    "Auf einzelne Elemente können wir mit Hilfe ihres Schlüssels zugreifen:\n"
   ]
  },
  {
   "cell_type": "code",
   "execution_count": null,
   "metadata": {},
   "outputs": [],
   "source": [
    "geburtstage[\"Bertha\"]"
   ]
  },
  {
   "cell_type": "markdown",
   "metadata": {},
   "source": [
    "Ebenso können wir dadurch Werte für einen Schlüssel ändern oder hinzufügen:"
   ]
  },
  {
   "cell_type": "code",
   "execution_count": null,
   "metadata": {},
   "outputs": [],
   "source": [
    "geburtstage[\"Douglas\"] = \"11.03.1952\"\n",
    "geburtstage"
   ]
  },
  {
   "cell_type": "markdown",
   "metadata": {},
   "source": [
    "\n",
    "Mit Hilfe von `del` können wir ein Schlüssel-Wert entfernen:"
   ]
  },
  {
   "cell_type": "code",
   "execution_count": null,
   "metadata": {},
   "outputs": [],
   "source": [
    "del geburtstage[\"Donald\"]\n",
    "geburtstage"
   ]
  },
  {
   "cell_type": "markdown",
   "metadata": {},
   "source": [
    "Der nachfolgende Python-Code implementiert das eingangs genannte\n",
    "Beispiel zum Zählen von Wörtern mit Hilfe eines assoziativen Feldes:\n"
   ]
  },
  {
   "cell_type": "code",
   "execution_count": null,
   "metadata": {},
   "outputs": [],
   "source": [
    "import urllib.request\n",
    "\n",
    "# Text herunterladen\n",
    "text = urllib.request.urlopen(\"https://dracor.org/api/corpora/ger/play/goethe-faust-eine-tragoedie/spoken-text\").read().decode('utf-8')\n",
    "\n",
    "woerter = {}                 # zählt Worthäufigkeiten\n",
    "for wort in text.split():    # Text wortweise durchlaufen\n",
    "    if wort not in woerter:  # neues Wort gefunden?\n",
    "        woerter[wort] = 1    # initialisieren\n",
    "    else:                    # bekanntes Wort gefunden\n",
    "        woerter[wort] += 1   # Häufigkeit erhöhen\n",
    "\n",
    "# Sortieren\n",
    "sortiert = sorted(woerter.items(), key=lambda item: item[1])\n",
    "\n",
    "# die häufigsten zehn Wörter ausgeben\n",
    "for i in range(10):\n",
    "    print(sortiert.pop())"
   ]
  },
  {
   "cell_type": "markdown",
   "metadata": {},
   "source": [
    "\n",
    "**Welche Operationen wären für Felder wünschenswert?** Die\n",
    "wesentlichen und wichtigsten Operationen sind – wie oben gesehen – das\n",
    "*Suchen*, *Hinzufügen*, *Ändern* und *Löschen* von Einträgen. Python\n",
    "implementiert auch kaum weitere Operationen:"
   ]
  },
  {
   "cell_type": "code",
   "execution_count": null,
   "metadata": {},
   "outputs": [],
   "source": [
    "help(dict)"
   ]
  },
  {
   "cell_type": "markdown",
   "metadata": {},
   "source": [
    "\n",
    "### Implementierung von Datenstrukturen\n",
    "\n",
    "#### Felder\n",
    "\n",
    "Felder lassen sich gut auf die Struktur des Hauptspeichers abbilden –\n",
    "ein eindimensionales Feld belegt einfach eine Folge von\n",
    "Speicherzellen. Für zweidimensionale Felder sind zwei Anordnungen\n",
    "üblich:\n",
    "\n",
    "![Speicheranordnung eines zweidimensionalen Feldes im\n",
    "Hauptspeicher](https://upload.wikimedia.org/wikipedia/commons/2/25/Speicheranordnung_Feld.svg)\n",
    "\n",
    "Das Feld wird also Zeilen- oder Spaltenweise auf die lineare Folge von\n",
    "Speicherzellen abgebildet. Ähnlich wird bei mehrdimensionalen Feldern\n",
    "verfahren. \n",
    "\n",
    "Durch die einfache Abbildbarkeit auf den Hauptspeicher sind Felder\n",
    "sehr effizient und dadurch eine häufig verwendete Datenstruktur.\n",
    "\n",
    "Allerdings sind sie nicht sehr flexibel: Wie wir eingangs gesehen\n",
    "haben, ist das Einfügen von Elementen nicht möglich. Felder können\n",
    "unter Umständen am Ende erweitert werden, wenn der entsprechende\n",
    "Hauptspeicher nicht schon anderweitig verwendet wird. Felder sind\n",
    "daher im Allgemeinen *statische* Datenstrukturen.\n",
    "\n",
    "Manche (vor allem interpretierte) Programmiersprachen wie auch Python\n",
    "ermöglichen es, die Größe von Feldern zu verändern und auch Elemente\n",
    "zu entfernen:\n"
   ]
  },
  {
   "cell_type": "code",
   "execution_count": null,
   "metadata": {},
   "outputs": [],
   "source": [
    "import array\n",
    "\n",
    "help(array.ArrayType.pop)"
   ]
  },
  {
   "cell_type": "markdown",
   "metadata": {},
   "source": [
    "bzw. einzufügen:"
   ]
  },
  {
   "cell_type": "code",
   "execution_count": null,
   "metadata": {},
   "outputs": [],
   "source": [
    "parr = array.array(\"B\", [1, 2, 3])  # ein Feld mit drei ganzen Zahlen\n",
    "print(parr)\n",
    "parr.append(4)                      # ein Element hinzufügen\n",
    "print(parr)"
   ]
  },
  {
   "cell_type": "markdown",
   "metadata": {},
   "source": [
    "\n",
    "Die Felder verhalten sich dadurch wie eine *dynamische*\n",
    "Datenstruktur. Meist wird dies durch \"Tricks\" im Hintergrund\n",
    "ermöglicht, beispielsweise indem das Feld kopiert wird. Darunter\n",
    "leidet zwar die Effizienz, aber in der Praxis fällt das oft nicht auf,\n",
    "weil die betreffenden Felder klein und die Rechner schnell\n",
    "sind. Benötigt man wirklich die Effizienz von Feldern (z.B. bei\n",
    "umfangreichen Berechnungen oder im Umgang mit sehr großen Daten), dann\n",
    "sollte man sich dessen bewusst sein, auf dynamische Felder verzichten\n",
    "oder die benötigte Funktionalität selbst implementieren.\n",
    "#### Listen\n",
    "\n",
    "Eine *statische* Liste mit Elementen fester Größe kann ähnlich einem\n",
    "Feld implementiert werden: für eine Liste mit $n$ Elementen der Größe\n",
    "$k$ Bytes werden $n\\cdot k$ Bytes im Hauptspeicher reserviert. Alle\n",
    "$k$ Bytes beginnt dann ein neues Element.\n",
    "\n",
    "Spannender (und flexibler) sind *dynamische* Listen. Diese werden\n",
    "typischerweise als *verkettete Listen* ([linked\n",
    "lists](https://en.wikipedia.org/wiki/Linked_list)) implementiert.\n",
    "Dabei enthält jedes Element einen Verweis (\"Zeiger\", \"Pointer\") auf\n",
    "das nachfolgende Listenelement. Das letzte Element der Liste enthält\n",
    "statt eines Verweises (oder verweist auf) einen speziellen\n",
    "\"Nichts\"-Wert (z.B. `None` in Python oder `NULL` in C).\n",
    "\n",
    "![Beispiel einer verketten\n",
    "Liste](https://upload.wikimedia.org/wikipedia/commons/6/6d/Singly-linked-list.svg)\n",
    "\n",
    "Die Abbildung skizziert eine verkettete Liste mit drei\n",
    "Elementen. Jedes Element enthält einen Zahlenwert und einen Verweis\n",
    "auf das Nachfolgelement. In diesem Beispiel verweist das letzte\n",
    "Element auf ein spezielles Schlusselement.\n",
    "\n",
    "Der Vorteil dieses Verfahrens ist, dass durch Verändern der Verweise\n",
    "die Struktur der Liste leicht verändert werden kann. Beispielsweise\n",
    "lässt sich ein Element leicht zwischen zwei Elementen einfügen:\n",
    "\n",
    "![Element einfügen](https://upload.wikimedia.org/wikipedia/commons/4/4b/CPT-LinkedLists-addingnode.svg)\n",
    "\n",
    "Dafür muss lediglich Speicherplatz für das neue Element (hier: 37)\n",
    "reserviert werden und der Verweis an der Einfügestelle (hier: zwischen\n",
    "12 und 99) so verändert werden, dass er auf das neue Element (hier:\n",
    "37) zeigt. Das Element selbst muss dann auf das ursprünglich nächste\n",
    "Element (hier: 99) verweisen. Dieses Prinzip ist so universell, dass\n",
    "anstelle eines Elementes auch beliebig viele Elemente oder gar eine\n",
    "ganze andere Liste zwischen zwei Elementen eingefügt werden kann (in\n",
    "letzterem Fall müsste im Beispiel das Element 12 dann auf den Anfang\n",
    "der einzufügenden Liste verweisen und das Ende der einzufügenden Liste\n",
    "auf das Element 99). Zudem können die einzelnen Elemente an beliebigen\n",
    "Stellen im Hauptspeicher verteilt liegen.\n",
    "\n",
    "Ebenso einfach lässt sich ein Element entfernen:\n",
    "\n",
    "![Element\n",
    "entfernen](https://upload.wikimedia.org/wikipedia/commons/d/d4/CPT-LinkedLists-deletingnode.svg)\n"
   ]
  },
  {
   "cell_type": "markdown",
   "metadata": {},
   "source": [
    "<p style=\"text-align:center; font-weight: bold;\">Forgetting</p>\n",
    "\n",
    "<a title=\"Of course, the assert doesn't work.\" href=\"https://xkcd.com/379/\">\n",
    "  <img alt=\"XKCD Comic: Forgetting\" src=\"https://imgs.xkcd.com/comics/forgetting.png\">\n",
    "</a>\n",
    "\n",
    "© Randall Munroe / [CC-BY-NC 2.5](http://creativecommons.org/licenses/by-nc/2.5/)"
   ]
  },
  {
   "cell_type": "markdown",
   "metadata": {},
   "source": [
    "\n",
    "#### assoziative Felder\n",
    "\n",
    "Assoziative Felder werden meist mit Hilfe von\n",
    "[Hashfunktionen](https://en.wikipedia.org/wiki/Hash_function) als\n",
    "[Hashtabellen](https://en.wikipedia.org/wiki/Hash_table)\n",
    "implementiert, seltener mit Hilfe von\n",
    "[Suchbäumen](https://en.wikipedia.org/wiki/Search_tree). Die Details\n",
    "dazu sind durchaus interessant, führen an dieser Stelle aber zu weit.\n",
    "\n",
    "#### Bäume und Graphen\n",
    "\n",
    "Bäume und Graphen lassen sich auf ähnliche Weise wie Listen\n",
    "implementieren: die Elemente (Knoten) können hier jedoch auf mehrere\n",
    "Nachfolger verweisen. Bei Graphen können auch mehrere Knoten auf einen\n",
    "Knoten verweisen. \n",
    "\n",
    "Alternativ kann ein Graph auch als eine [Liste von\n",
    "Kanten](https://en.wikipedia.org/wiki/Edge_list) aufgefasst und\n",
    "gespeichert werden. Beispielsweise könnte der Graph\n",
    "\n",
    "![ein Beispielgraph\n",
    "Baum](https://upload.wikimedia.org/wikipedia/commons/thumb/1/1c/Directed_graph%2C_cyclic.svg/320px-Directed_graph%2C_cyclic.svg.png)\n",
    "\n",
    "in Python als Liste\n"
   ]
  },
  {
   "cell_type": "code",
   "execution_count": null,
   "metadata": {},
   "outputs": [],
   "source": [
    "[(\"A\", \"B\"), (\"B\", \"C\"), (\"C\", \"E\"), (\"D\", \"B\"), (\"E\", \"D\"), (\"E\", \"F\")]"
   ]
  },
  {
   "cell_type": "markdown",
   "metadata": {},
   "source": [
    "\n",
    "verarbeitet werden. Eine weitere Möglichkeit sind sogenannte\n",
    "[Adjazenzlisten](https://de.wikipedia.org/wiki/Adjazenzliste).\n"
   ]
  },
  {
   "cell_type": "markdown",
   "metadata": {},
   "source": [
    "\n",
    "\n",
    "\n",
    "<div class=\"alert alert-warning\">\n",
    "\n",
    "### Exkurs: Die Dateiformate XML, JSON und RDF\n",
    "\n",
    "Die *Dateiformate* XML, JSON und RDF ermöglichen das Speichern\n",
    "strukturierter Daten. Die dahinterliegende Repräsentation baut jeweils\n",
    "auf unterschiedlichen abstrakten Datenstrukturen auf:\n",
    "\n",
    "- [XML](https://en.wikipedia.org/wiki/XML) fasst Daten als *Baum* auf.\n",
    "- [JSON](https://en.wikipedia.org/wiki/JSON) mischt *Felder* und\n",
    "  *assoziative Felder* und ermöglicht damit ebenfalls die Abbildung\n",
    "  von Daten als *Baum*.\n",
    "- [RDF](https://en.wikipedia.org/wiki/Resource_Description_Framework)\n",
    "  fasst Daten als *Graph* auf.\n",
    "\n",
    "Weitere Details dazu erlernen Sie im Lehrgebiet *7.2 Modellierung\n",
    "(XML, RDF etc.), Semantic Web, Ontologien*.\n",
    "\n",
    "<!--\n",
    "\n",
    "- Was bedeutet \"abstrakt\"?\n",
    "- Interpretationsebenen (Beispiel: XML-Datei eines NYT-Artikels (oder\n",
    "  anderes passendes Beispiel)):\n",
    "  - Spannung/keine Spannung\n",
    "  - Nullen und Einsen\n",
    "  - 8 Bit sind 1 Byte\n",
    "  - Interpretation eines Bytes als ASCII-Zeichen (bzw. ggf. UTF-8)\n",
    "  - Bedeutung der Zeichen für XML ('<', '>', etc.) ergibt \"Tags\" und \"Attribute\"\n",
    "  - Jedes Tag wird durch Schema definiert und durch Programmierer*in\n",
    "    bzw. Anwender*in entsprechend interpretiert, z.B. \"<title>\" ->\n",
    "    beschreibt Titel eines Artikels\n",
    "  - Inhalt der Tags wird entsprechend interpretiert\n",
    "\n",
    "-->\n",
    "\n",
    "</div>\n"
   ]
  },
  {
   "cell_type": "markdown",
   "metadata": {},
   "source": [
    "\n",
    "<div class=\"alert alert-warning\">\n",
    "\n",
    "### Exkurs: Relationale Datenbanken\n",
    "\n",
    "[Relationale\n",
    "Datenbanken](https://de.wikipedia.org/wiki/Relationale_Datenbank)\n",
    "modellieren das Graph-basierte\n",
    "[Entity-Relationship-Modell](https://de.wikipedia.org/wiki/ER-Modell)\n",
    "mit Hilfe von *Relationen*, die aus *Tupeln* und *Attributen* bestehen\n",
    "– oder einfacher ausgedrückt: *Tabellen*, die aus *Zeilen* und\n",
    "*Spalten* bestehen. Tabellen wiederum können als Felder oder Listen\n",
    "von Zeilen aufgefasst werden. Datenstrukturen wie beispielsweise Bäume\n",
    "und assoziative Felder spielen eine wichtige Rolle in\n",
    "[Datenbankmanagementsystemen](https://en.wikipedia.org/wiki/DBMS),\n",
    "beispielsweise bei der Beschleunigung von Operationen durch\n",
    "Indexe. Ebenso gibt es andere Arten von Datenbanken,\n",
    "z.B. [Graphdatenbanken](https://de.wikipedia.org/wiki/Graphdatenbank)\n",
    "oder\n",
    "[Schlüssel-Wert-Datenbanken](https://de.wikipedia.org/wiki/Schl%C3%BCssel-Werte-Datenbank),\n",
    "die direkt für die Speicherung entsprechender Datenstrukturen (Graphen\n",
    "bzw. assoziative Felder) optimiert sind.\n",
    "\n",
    "\n",
    "\n",
    "Mehr dazu erfahren Sie im Lehrgebiet *7.3 Datei- und\n",
    "Datenbanksysteme*.\n",
    "\n",
    "\n",
    "\n",
    "</div>\n"
   ]
  },
  {
   "cell_type": "markdown",
   "metadata": {},
   "source": [
    "\n",
    "<div class=\"alert alert-success\">\n",
    "    \n",
    "## Aufgaben\n",
    "\n",
    "### Datenstrukturen in der realen Welt\n",
    "\n",
    "*erwarteter Zeitaufwand: ca. 30 Minuten*\n",
    "\n",
    "Finden und fotografieren Sie Beispiele für Strukturen ausserhalb der\n",
    "Informatik, die als Liste, Stapel, Warteschlange oder Baum aufgefasst\n",
    "werden können (wie das Beispiel der Menschenschlange oder des\n",
    "Stuhlstapels).\n",
    "\n",
    "Überlegen Sie sich zu jedem Ihrer Beispiele, welche *Operationen* es\n",
    "gibt und wie praktikabel diese sind. Wie kann beispielsweise Ihre\n",
    "Liste verändert werden? Wie können Sie etwas in Ihrem Stapel finden?\n",
    "Welche Operationen sind für das jeweilige Beispiel \"üblich\" und welche\n",
    "eher nicht? Versuchen Sie auch zu entscheiden, ob (und warum) Ihre\n",
    "Beispiele eine *statische* oder eine *dynamische* Datenstruktur\n",
    "darstellen.\n",
    "\n",
    "**Abschluss:** Posten Sie Ihr(e) Photo(s) im Forum und beschreiben Sie\n",
    "kurz die Struktur sowie zugehörige Operationen.\n",
    "\n",
    "</div>\n"
   ]
  },
  {
   "cell_type": "markdown",
   "metadata": {},
   "source": [
    "\n",
    "<div class=\"alert alert-success\">\n",
    "\n",
    "### Implementierung von Datenstrukturen\n",
    "\n",
    "*erwarteter Zeitaufwand: ca. 120 Minuten; Ergänzungsaufgabe*\n",
    "\n",
    "Implementieren Sie eine der behandelten Datenstrukturen (keine Liste,\n",
    "aber vielleicht einen Baum oder Graphen) in Python.\n",
    "\n",
    "**Abschluss:** Dokumentieren Sie Ihre Ergebnisse und Erkenntnisse in Ihrer [speziellen Arbeitsleistung](Vorlage_Spezielle_Arbeitsleistung.ipynb).\n",
    "\n",
    "</div>\n"
   ]
  },
  {
   "cell_type": "markdown",
   "metadata": {},
   "source": [
    "\n",
    "<div class=\"alert alert-success\">\n",
    "\n",
    "### Das Prinzip des Zeigers\n",
    "\n",
    "*erwarteter Zeitaufwand: ca. 30 Minuten*\n",
    "\n",
    "Wir haben gelernt, dass verkettete Listen (und auch Bäume und Graphen)\n",
    "mit Hilfe von Verweisen zwischen Elementen implementiert werden\n",
    "können. Diese Verweise werden auch \"Zeiger\" (bzw. *Pointer* im\n",
    "Englischen) genannt und stellen Adressen im Hauptspeicher dar.\n",
    "Erarbeiten Sie sich das Prinzip des\n",
    "[Zeigers](https://de.wikipedia.org/wiki/Zeiger_(Informatik)) und\n",
    "fassen Sie die Grundidee in zwei Sätzen zusammen. Welchen Zusammenhang\n",
    "gibt es mit der\n",
    "[Adressierung](https://de.wikipedia.org/wiki/Adressraum#Gebr%C3%A4uchliche_Speicheradressr%C3%A4ume)\n",
    "des Hauptspeichers im Computer? Welche Beispiele für Zeiger können Sie\n",
    "in der realen Welt finden?\n",
    "\n",
    "**Abschluss:** Posten Sie Ihre Ergebnisse und Erkenntnisse im Forum.\n",
    "\n",
    "</div>\n"
   ]
  }
 ],
 "metadata": {
  "language_info": {
   "name": "python",
   "pygments_lexer": "ipython3"
  }
 },
 "nbformat": 4,
 "nbformat_minor": 2
}
